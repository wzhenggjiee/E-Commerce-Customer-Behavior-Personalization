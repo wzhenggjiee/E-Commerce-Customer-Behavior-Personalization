{
  "nbformat": 4,
  "nbformat_minor": 0,
  "metadata": {
    "colab": {
      "provenance": []
    },
    "kernelspec": {
      "name": "python3",
      "display_name": "Python 3"
    },
    "language_info": {
      "name": "python"
    }
  },
  "cells": [
    {
      "cell_type": "code",
      "execution_count": 1,
      "metadata": {
        "colab": {
          "base_uri": "https://localhost:8080/"
        },
        "id": "wpRzGNUUQ2GQ",
        "outputId": "7edaab76-77af-4b22-eb40-8ad0ee332b77"
      },
      "outputs": [
        {
          "output_type": "stream",
          "name": "stdout",
          "text": [
            "Mounted at /content/drive\n"
          ]
        }
      ],
      "source": [
        "from google.colab import drive\n",
        "drive.mount('/content/drive')"
      ]
    },
    {
      "cell_type": "code",
      "source": [
        "import pandas as pd\n",
        "import numpy as np\n",
        "import matplotlib.pyplot as plt\n",
        "import seaborn as sns\n",
        "from sklearn.ensemble import RandomForestClassifier\n",
        "from sklearn.metrics import classification_report\n",
        "from sklearn.model_selection import train_test_split\n",
        "from sklearn.experimental import enable_iterative_imputer\n",
        "from sklearn.impute import IterativeImputer\n",
        "from sklearn import linear_model"
      ],
      "metadata": {
        "id": "71it1yr6Q8Om"
      },
      "execution_count": 2,
      "outputs": []
    },
    {
      "cell_type": "code",
      "source": [
        "#Reading the dataset\n",
        "df = pd.read_csv(\"/content/drive/MyDrive/FYP/E Commerce Dataset.csv\")\n",
        "OnlineRetail = df.copy() #Taking a copy of the data"
      ],
      "metadata": {
        "id": "WQYW1bDpQ8V0"
      },
      "execution_count": 3,
      "outputs": []
    },
    {
      "cell_type": "code",
      "source": [
        "#Retrieving the first 10 rows\n",
        "OnlineRetail.head(10)\n"
      ],
      "metadata": {
        "colab": {
          "base_uri": "https://localhost:8080/",
          "height": 481
        },
        "id": "IZi-hWoaQ8Y1",
        "outputId": "e982ebcc-2c54-4999-f36a-bf173bbebe9d"
      },
      "execution_count": 4,
      "outputs": [
        {
          "output_type": "execute_result",
          "data": {
            "text/plain": [
              "   Unnamed: 0  CustomerID  Churn   Tenure PreferredLoginDevice  CityTier  \\\n",
              "0           0       50001      1      4.0         Mobile Phone         3   \n",
              "1           1       50002      1      NaN                Phone         1   \n",
              "2           2       50003      1      NaN                Phone         1   \n",
              "3           3       50004      1      0.0                Phone         3   \n",
              "4           4       50005      1      0.0                Phone         1   \n",
              "5           5       50006      1      0.0             Computer         1   \n",
              "6           6       50007      1      NaN                Phone         3   \n",
              "7           7       50008      1      NaN                Phone         1   \n",
              "8           8       50009      1 -10000.0                Phone         3   \n",
              "9           9       50010      1      NaN                Phone         1   \n",
              "\n",
              "   WarehouseToHome PreferredPaymentMode  Gender  HourSpendOnApp  ...  \\\n",
              "0              6.0           Debit Card  Female             3.0  ...   \n",
              "1              8.0                  UPI    Male             3.0  ...   \n",
              "2             30.0           Debit Card    Male             2.0  ...   \n",
              "3             15.0           Debit Card    Male             2.0  ...   \n",
              "4             12.0                   CC    Male             NaN  ...   \n",
              "5             22.0           Debit Card  Female             3.0  ...   \n",
              "6             11.0     Cash on Delivery    Male             2.0  ...   \n",
              "7              6.0                   CC    Male             3.0  ...   \n",
              "8              9.0             E wallet    Male             NaN  ...   \n",
              "9             31.0           Debit Card    Male             2.0  ...   \n",
              "\n",
              "     PreferedOrderCat SatisfactionScore  MaritalStatus NumberOfAddress  \\\n",
              "0  Laptop & Accessory                 2         Single               9   \n",
              "1              Mobile                 3         Single               7   \n",
              "2              Mobile                 3         Single               6   \n",
              "3  Laptop & Accessory            589314         Single               8   \n",
              "4              Mobile                 5         Single               3   \n",
              "5        Mobile Phone                 5         Single               2   \n",
              "6  Laptop & Accessory                 2       Divorced               4   \n",
              "7              Mobile                 2       Divorced               3   \n",
              "8              Mobile                 3       Divorced               2   \n",
              "9              Mobile                 3            NaN               2   \n",
              "\n",
              "   Complain  OrderAmountHikeFromlastYear  CouponUsed  OrderCount  \\\n",
              "0         1                         11.0         1.0         1.0   \n",
              "1         1                         15.0         0.0         1.0   \n",
              "2         1                         14.0         0.0         1.0   \n",
              "3         0                         23.0         0.0         1.0   \n",
              "4         0                         11.0         1.0         1.0   \n",
              "5         1                         22.0         4.0         6.0   \n",
              "6         0                         14.0         0.0         1.0   \n",
              "7         1                         16.0         2.0         2.0   \n",
              "8         1                         14.0         0.0         1.0   \n",
              "9         0                         12.0         1.0         1.0   \n",
              "\n",
              "   DaySinceLastOrder  CashbackAmount  \n",
              "0                5.0          159.93  \n",
              "1                0.0          120.90  \n",
              "2                3.0          120.28  \n",
              "3                3.0          134.07  \n",
              "4                3.0          129.60  \n",
              "5                7.0          139.19  \n",
              "6                0.0          120.86  \n",
              "7                0.0          122.93  \n",
              "8                2.0          126.83  \n",
              "9                1.0          122.93  \n",
              "\n",
              "[10 rows x 21 columns]"
            ],
            "text/html": [
              "\n",
              "  <div id=\"df-0486a21e-4e84-4e25-98a7-dadc0679dcd9\" class=\"colab-df-container\">\n",
              "    <div>\n",
              "<style scoped>\n",
              "    .dataframe tbody tr th:only-of-type {\n",
              "        vertical-align: middle;\n",
              "    }\n",
              "\n",
              "    .dataframe tbody tr th {\n",
              "        vertical-align: top;\n",
              "    }\n",
              "\n",
              "    .dataframe thead th {\n",
              "        text-align: right;\n",
              "    }\n",
              "</style>\n",
              "<table border=\"1\" class=\"dataframe\">\n",
              "  <thead>\n",
              "    <tr style=\"text-align: right;\">\n",
              "      <th></th>\n",
              "      <th>Unnamed: 0</th>\n",
              "      <th>CustomerID</th>\n",
              "      <th>Churn</th>\n",
              "      <th>Tenure</th>\n",
              "      <th>PreferredLoginDevice</th>\n",
              "      <th>CityTier</th>\n",
              "      <th>WarehouseToHome</th>\n",
              "      <th>PreferredPaymentMode</th>\n",
              "      <th>Gender</th>\n",
              "      <th>HourSpendOnApp</th>\n",
              "      <th>...</th>\n",
              "      <th>PreferedOrderCat</th>\n",
              "      <th>SatisfactionScore</th>\n",
              "      <th>MaritalStatus</th>\n",
              "      <th>NumberOfAddress</th>\n",
              "      <th>Complain</th>\n",
              "      <th>OrderAmountHikeFromlastYear</th>\n",
              "      <th>CouponUsed</th>\n",
              "      <th>OrderCount</th>\n",
              "      <th>DaySinceLastOrder</th>\n",
              "      <th>CashbackAmount</th>\n",
              "    </tr>\n",
              "  </thead>\n",
              "  <tbody>\n",
              "    <tr>\n",
              "      <th>0</th>\n",
              "      <td>0</td>\n",
              "      <td>50001</td>\n",
              "      <td>1</td>\n",
              "      <td>4.0</td>\n",
              "      <td>Mobile Phone</td>\n",
              "      <td>3</td>\n",
              "      <td>6.0</td>\n",
              "      <td>Debit Card</td>\n",
              "      <td>Female</td>\n",
              "      <td>3.0</td>\n",
              "      <td>...</td>\n",
              "      <td>Laptop &amp; Accessory</td>\n",
              "      <td>2</td>\n",
              "      <td>Single</td>\n",
              "      <td>9</td>\n",
              "      <td>1</td>\n",
              "      <td>11.0</td>\n",
              "      <td>1.0</td>\n",
              "      <td>1.0</td>\n",
              "      <td>5.0</td>\n",
              "      <td>159.93</td>\n",
              "    </tr>\n",
              "    <tr>\n",
              "      <th>1</th>\n",
              "      <td>1</td>\n",
              "      <td>50002</td>\n",
              "      <td>1</td>\n",
              "      <td>NaN</td>\n",
              "      <td>Phone</td>\n",
              "      <td>1</td>\n",
              "      <td>8.0</td>\n",
              "      <td>UPI</td>\n",
              "      <td>Male</td>\n",
              "      <td>3.0</td>\n",
              "      <td>...</td>\n",
              "      <td>Mobile</td>\n",
              "      <td>3</td>\n",
              "      <td>Single</td>\n",
              "      <td>7</td>\n",
              "      <td>1</td>\n",
              "      <td>15.0</td>\n",
              "      <td>0.0</td>\n",
              "      <td>1.0</td>\n",
              "      <td>0.0</td>\n",
              "      <td>120.90</td>\n",
              "    </tr>\n",
              "    <tr>\n",
              "      <th>2</th>\n",
              "      <td>2</td>\n",
              "      <td>50003</td>\n",
              "      <td>1</td>\n",
              "      <td>NaN</td>\n",
              "      <td>Phone</td>\n",
              "      <td>1</td>\n",
              "      <td>30.0</td>\n",
              "      <td>Debit Card</td>\n",
              "      <td>Male</td>\n",
              "      <td>2.0</td>\n",
              "      <td>...</td>\n",
              "      <td>Mobile</td>\n",
              "      <td>3</td>\n",
              "      <td>Single</td>\n",
              "      <td>6</td>\n",
              "      <td>1</td>\n",
              "      <td>14.0</td>\n",
              "      <td>0.0</td>\n",
              "      <td>1.0</td>\n",
              "      <td>3.0</td>\n",
              "      <td>120.28</td>\n",
              "    </tr>\n",
              "    <tr>\n",
              "      <th>3</th>\n",
              "      <td>3</td>\n",
              "      <td>50004</td>\n",
              "      <td>1</td>\n",
              "      <td>0.0</td>\n",
              "      <td>Phone</td>\n",
              "      <td>3</td>\n",
              "      <td>15.0</td>\n",
              "      <td>Debit Card</td>\n",
              "      <td>Male</td>\n",
              "      <td>2.0</td>\n",
              "      <td>...</td>\n",
              "      <td>Laptop &amp; Accessory</td>\n",
              "      <td>589314</td>\n",
              "      <td>Single</td>\n",
              "      <td>8</td>\n",
              "      <td>0</td>\n",
              "      <td>23.0</td>\n",
              "      <td>0.0</td>\n",
              "      <td>1.0</td>\n",
              "      <td>3.0</td>\n",
              "      <td>134.07</td>\n",
              "    </tr>\n",
              "    <tr>\n",
              "      <th>4</th>\n",
              "      <td>4</td>\n",
              "      <td>50005</td>\n",
              "      <td>1</td>\n",
              "      <td>0.0</td>\n",
              "      <td>Phone</td>\n",
              "      <td>1</td>\n",
              "      <td>12.0</td>\n",
              "      <td>CC</td>\n",
              "      <td>Male</td>\n",
              "      <td>NaN</td>\n",
              "      <td>...</td>\n",
              "      <td>Mobile</td>\n",
              "      <td>5</td>\n",
              "      <td>Single</td>\n",
              "      <td>3</td>\n",
              "      <td>0</td>\n",
              "      <td>11.0</td>\n",
              "      <td>1.0</td>\n",
              "      <td>1.0</td>\n",
              "      <td>3.0</td>\n",
              "      <td>129.60</td>\n",
              "    </tr>\n",
              "    <tr>\n",
              "      <th>5</th>\n",
              "      <td>5</td>\n",
              "      <td>50006</td>\n",
              "      <td>1</td>\n",
              "      <td>0.0</td>\n",
              "      <td>Computer</td>\n",
              "      <td>1</td>\n",
              "      <td>22.0</td>\n",
              "      <td>Debit Card</td>\n",
              "      <td>Female</td>\n",
              "      <td>3.0</td>\n",
              "      <td>...</td>\n",
              "      <td>Mobile Phone</td>\n",
              "      <td>5</td>\n",
              "      <td>Single</td>\n",
              "      <td>2</td>\n",
              "      <td>1</td>\n",
              "      <td>22.0</td>\n",
              "      <td>4.0</td>\n",
              "      <td>6.0</td>\n",
              "      <td>7.0</td>\n",
              "      <td>139.19</td>\n",
              "    </tr>\n",
              "    <tr>\n",
              "      <th>6</th>\n",
              "      <td>6</td>\n",
              "      <td>50007</td>\n",
              "      <td>1</td>\n",
              "      <td>NaN</td>\n",
              "      <td>Phone</td>\n",
              "      <td>3</td>\n",
              "      <td>11.0</td>\n",
              "      <td>Cash on Delivery</td>\n",
              "      <td>Male</td>\n",
              "      <td>2.0</td>\n",
              "      <td>...</td>\n",
              "      <td>Laptop &amp; Accessory</td>\n",
              "      <td>2</td>\n",
              "      <td>Divorced</td>\n",
              "      <td>4</td>\n",
              "      <td>0</td>\n",
              "      <td>14.0</td>\n",
              "      <td>0.0</td>\n",
              "      <td>1.0</td>\n",
              "      <td>0.0</td>\n",
              "      <td>120.86</td>\n",
              "    </tr>\n",
              "    <tr>\n",
              "      <th>7</th>\n",
              "      <td>7</td>\n",
              "      <td>50008</td>\n",
              "      <td>1</td>\n",
              "      <td>NaN</td>\n",
              "      <td>Phone</td>\n",
              "      <td>1</td>\n",
              "      <td>6.0</td>\n",
              "      <td>CC</td>\n",
              "      <td>Male</td>\n",
              "      <td>3.0</td>\n",
              "      <td>...</td>\n",
              "      <td>Mobile</td>\n",
              "      <td>2</td>\n",
              "      <td>Divorced</td>\n",
              "      <td>3</td>\n",
              "      <td>1</td>\n",
              "      <td>16.0</td>\n",
              "      <td>2.0</td>\n",
              "      <td>2.0</td>\n",
              "      <td>0.0</td>\n",
              "      <td>122.93</td>\n",
              "    </tr>\n",
              "    <tr>\n",
              "      <th>8</th>\n",
              "      <td>8</td>\n",
              "      <td>50009</td>\n",
              "      <td>1</td>\n",
              "      <td>-10000.0</td>\n",
              "      <td>Phone</td>\n",
              "      <td>3</td>\n",
              "      <td>9.0</td>\n",
              "      <td>E wallet</td>\n",
              "      <td>Male</td>\n",
              "      <td>NaN</td>\n",
              "      <td>...</td>\n",
              "      <td>Mobile</td>\n",
              "      <td>3</td>\n",
              "      <td>Divorced</td>\n",
              "      <td>2</td>\n",
              "      <td>1</td>\n",
              "      <td>14.0</td>\n",
              "      <td>0.0</td>\n",
              "      <td>1.0</td>\n",
              "      <td>2.0</td>\n",
              "      <td>126.83</td>\n",
              "    </tr>\n",
              "    <tr>\n",
              "      <th>9</th>\n",
              "      <td>9</td>\n",
              "      <td>50010</td>\n",
              "      <td>1</td>\n",
              "      <td>NaN</td>\n",
              "      <td>Phone</td>\n",
              "      <td>1</td>\n",
              "      <td>31.0</td>\n",
              "      <td>Debit Card</td>\n",
              "      <td>Male</td>\n",
              "      <td>2.0</td>\n",
              "      <td>...</td>\n",
              "      <td>Mobile</td>\n",
              "      <td>3</td>\n",
              "      <td>NaN</td>\n",
              "      <td>2</td>\n",
              "      <td>0</td>\n",
              "      <td>12.0</td>\n",
              "      <td>1.0</td>\n",
              "      <td>1.0</td>\n",
              "      <td>1.0</td>\n",
              "      <td>122.93</td>\n",
              "    </tr>\n",
              "  </tbody>\n",
              "</table>\n",
              "<p>10 rows × 21 columns</p>\n",
              "</div>\n",
              "    <div class=\"colab-df-buttons\">\n",
              "\n",
              "  <div class=\"colab-df-container\">\n",
              "    <button class=\"colab-df-convert\" onclick=\"convertToInteractive('df-0486a21e-4e84-4e25-98a7-dadc0679dcd9')\"\n",
              "            title=\"Convert this dataframe to an interactive table.\"\n",
              "            style=\"display:none;\">\n",
              "\n",
              "  <svg xmlns=\"http://www.w3.org/2000/svg\" height=\"24px\" viewBox=\"0 -960 960 960\">\n",
              "    <path d=\"M120-120v-720h720v720H120Zm60-500h600v-160H180v160Zm220 220h160v-160H400v160Zm0 220h160v-160H400v160ZM180-400h160v-160H180v160Zm440 0h160v-160H620v160ZM180-180h160v-160H180v160Zm440 0h160v-160H620v160Z\"/>\n",
              "  </svg>\n",
              "    </button>\n",
              "\n",
              "  <style>\n",
              "    .colab-df-container {\n",
              "      display:flex;\n",
              "      gap: 12px;\n",
              "    }\n",
              "\n",
              "    .colab-df-convert {\n",
              "      background-color: #E8F0FE;\n",
              "      border: none;\n",
              "      border-radius: 50%;\n",
              "      cursor: pointer;\n",
              "      display: none;\n",
              "      fill: #1967D2;\n",
              "      height: 32px;\n",
              "      padding: 0 0 0 0;\n",
              "      width: 32px;\n",
              "    }\n",
              "\n",
              "    .colab-df-convert:hover {\n",
              "      background-color: #E2EBFA;\n",
              "      box-shadow: 0px 1px 2px rgba(60, 64, 67, 0.3), 0px 1px 3px 1px rgba(60, 64, 67, 0.15);\n",
              "      fill: #174EA6;\n",
              "    }\n",
              "\n",
              "    .colab-df-buttons div {\n",
              "      margin-bottom: 4px;\n",
              "    }\n",
              "\n",
              "    [theme=dark] .colab-df-convert {\n",
              "      background-color: #3B4455;\n",
              "      fill: #D2E3FC;\n",
              "    }\n",
              "\n",
              "    [theme=dark] .colab-df-convert:hover {\n",
              "      background-color: #434B5C;\n",
              "      box-shadow: 0px 1px 3px 1px rgba(0, 0, 0, 0.15);\n",
              "      filter: drop-shadow(0px 1px 2px rgba(0, 0, 0, 0.3));\n",
              "      fill: #FFFFFF;\n",
              "    }\n",
              "  </style>\n",
              "\n",
              "    <script>\n",
              "      const buttonEl =\n",
              "        document.querySelector('#df-0486a21e-4e84-4e25-98a7-dadc0679dcd9 button.colab-df-convert');\n",
              "      buttonEl.style.display =\n",
              "        google.colab.kernel.accessAllowed ? 'block' : 'none';\n",
              "\n",
              "      async function convertToInteractive(key) {\n",
              "        const element = document.querySelector('#df-0486a21e-4e84-4e25-98a7-dadc0679dcd9');\n",
              "        const dataTable =\n",
              "          await google.colab.kernel.invokeFunction('convertToInteractive',\n",
              "                                                    [key], {});\n",
              "        if (!dataTable) return;\n",
              "\n",
              "        const docLinkHtml = 'Like what you see? Visit the ' +\n",
              "          '<a target=\"_blank\" href=https://colab.research.google.com/notebooks/data_table.ipynb>data table notebook</a>'\n",
              "          + ' to learn more about interactive tables.';\n",
              "        element.innerHTML = '';\n",
              "        dataTable['output_type'] = 'display_data';\n",
              "        await google.colab.output.renderOutput(dataTable, element);\n",
              "        const docLink = document.createElement('div');\n",
              "        docLink.innerHTML = docLinkHtml;\n",
              "        element.appendChild(docLink);\n",
              "      }\n",
              "    </script>\n",
              "  </div>\n",
              "\n",
              "\n",
              "<div id=\"df-6b500a2b-ff01-4e05-8644-9b4b16fa6f57\">\n",
              "  <button class=\"colab-df-quickchart\" onclick=\"quickchart('df-6b500a2b-ff01-4e05-8644-9b4b16fa6f57')\"\n",
              "            title=\"Suggest charts\"\n",
              "            style=\"display:none;\">\n",
              "\n",
              "<svg xmlns=\"http://www.w3.org/2000/svg\" height=\"24px\"viewBox=\"0 0 24 24\"\n",
              "     width=\"24px\">\n",
              "    <g>\n",
              "        <path d=\"M19 3H5c-1.1 0-2 .9-2 2v14c0 1.1.9 2 2 2h14c1.1 0 2-.9 2-2V5c0-1.1-.9-2-2-2zM9 17H7v-7h2v7zm4 0h-2V7h2v10zm4 0h-2v-4h2v4z\"/>\n",
              "    </g>\n",
              "</svg>\n",
              "  </button>\n",
              "\n",
              "<style>\n",
              "  .colab-df-quickchart {\n",
              "      --bg-color: #E8F0FE;\n",
              "      --fill-color: #1967D2;\n",
              "      --hover-bg-color: #E2EBFA;\n",
              "      --hover-fill-color: #174EA6;\n",
              "      --disabled-fill-color: #AAA;\n",
              "      --disabled-bg-color: #DDD;\n",
              "  }\n",
              "\n",
              "  [theme=dark] .colab-df-quickchart {\n",
              "      --bg-color: #3B4455;\n",
              "      --fill-color: #D2E3FC;\n",
              "      --hover-bg-color: #434B5C;\n",
              "      --hover-fill-color: #FFFFFF;\n",
              "      --disabled-bg-color: #3B4455;\n",
              "      --disabled-fill-color: #666;\n",
              "  }\n",
              "\n",
              "  .colab-df-quickchart {\n",
              "    background-color: var(--bg-color);\n",
              "    border: none;\n",
              "    border-radius: 50%;\n",
              "    cursor: pointer;\n",
              "    display: none;\n",
              "    fill: var(--fill-color);\n",
              "    height: 32px;\n",
              "    padding: 0;\n",
              "    width: 32px;\n",
              "  }\n",
              "\n",
              "  .colab-df-quickchart:hover {\n",
              "    background-color: var(--hover-bg-color);\n",
              "    box-shadow: 0 1px 2px rgba(60, 64, 67, 0.3), 0 1px 3px 1px rgba(60, 64, 67, 0.15);\n",
              "    fill: var(--button-hover-fill-color);\n",
              "  }\n",
              "\n",
              "  .colab-df-quickchart-complete:disabled,\n",
              "  .colab-df-quickchart-complete:disabled:hover {\n",
              "    background-color: var(--disabled-bg-color);\n",
              "    fill: var(--disabled-fill-color);\n",
              "    box-shadow: none;\n",
              "  }\n",
              "\n",
              "  .colab-df-spinner {\n",
              "    border: 2px solid var(--fill-color);\n",
              "    border-color: transparent;\n",
              "    border-bottom-color: var(--fill-color);\n",
              "    animation:\n",
              "      spin 1s steps(1) infinite;\n",
              "  }\n",
              "\n",
              "  @keyframes spin {\n",
              "    0% {\n",
              "      border-color: transparent;\n",
              "      border-bottom-color: var(--fill-color);\n",
              "      border-left-color: var(--fill-color);\n",
              "    }\n",
              "    20% {\n",
              "      border-color: transparent;\n",
              "      border-left-color: var(--fill-color);\n",
              "      border-top-color: var(--fill-color);\n",
              "    }\n",
              "    30% {\n",
              "      border-color: transparent;\n",
              "      border-left-color: var(--fill-color);\n",
              "      border-top-color: var(--fill-color);\n",
              "      border-right-color: var(--fill-color);\n",
              "    }\n",
              "    40% {\n",
              "      border-color: transparent;\n",
              "      border-right-color: var(--fill-color);\n",
              "      border-top-color: var(--fill-color);\n",
              "    }\n",
              "    60% {\n",
              "      border-color: transparent;\n",
              "      border-right-color: var(--fill-color);\n",
              "    }\n",
              "    80% {\n",
              "      border-color: transparent;\n",
              "      border-right-color: var(--fill-color);\n",
              "      border-bottom-color: var(--fill-color);\n",
              "    }\n",
              "    90% {\n",
              "      border-color: transparent;\n",
              "      border-bottom-color: var(--fill-color);\n",
              "    }\n",
              "  }\n",
              "</style>\n",
              "\n",
              "  <script>\n",
              "    async function quickchart(key) {\n",
              "      const quickchartButtonEl =\n",
              "        document.querySelector('#' + key + ' button');\n",
              "      quickchartButtonEl.disabled = true;  // To prevent multiple clicks.\n",
              "      quickchartButtonEl.classList.add('colab-df-spinner');\n",
              "      try {\n",
              "        const charts = await google.colab.kernel.invokeFunction(\n",
              "            'suggestCharts', [key], {});\n",
              "      } catch (error) {\n",
              "        console.error('Error during call to suggestCharts:', error);\n",
              "      }\n",
              "      quickchartButtonEl.classList.remove('colab-df-spinner');\n",
              "      quickchartButtonEl.classList.add('colab-df-quickchart-complete');\n",
              "    }\n",
              "    (() => {\n",
              "      let quickchartButtonEl =\n",
              "        document.querySelector('#df-6b500a2b-ff01-4e05-8644-9b4b16fa6f57 button');\n",
              "      quickchartButtonEl.style.display =\n",
              "        google.colab.kernel.accessAllowed ? 'block' : 'none';\n",
              "    })();\n",
              "  </script>\n",
              "</div>\n",
              "    </div>\n",
              "  </div>\n"
            ]
          },
          "metadata": {},
          "execution_count": 4
        }
      ]
    },
    {
      "cell_type": "code",
      "source": [
        "OnlineRetail.info() #Figuring out columns' data types"
      ],
      "metadata": {
        "colab": {
          "base_uri": "https://localhost:8080/"
        },
        "id": "IRMfcqyfEjuG",
        "outputId": "f049fb9f-84fb-42cf-c60e-7076c4b6bc63"
      },
      "execution_count": 5,
      "outputs": [
        {
          "output_type": "stream",
          "name": "stdout",
          "text": [
            "<class 'pandas.core.frame.DataFrame'>\n",
            "RangeIndex: 16890 entries, 0 to 16889\n",
            "Data columns (total 21 columns):\n",
            " #   Column                       Non-Null Count  Dtype  \n",
            "---  ------                       --------------  -----  \n",
            " 0   Unnamed: 0                   16890 non-null  int64  \n",
            " 1   CustomerID                   16890 non-null  int64  \n",
            " 2   Churn                        16890 non-null  int64  \n",
            " 3   Tenure                       16107 non-null  float64\n",
            " 4   PreferredLoginDevice         16890 non-null  object \n",
            " 5   CityTier                     16890 non-null  int64  \n",
            " 6   WarehouseToHome              15555 non-null  float64\n",
            " 7   PreferredPaymentMode         16290 non-null  object \n",
            " 8   Gender                       16890 non-null  object \n",
            " 9   HourSpendOnApp               16125 non-null  float64\n",
            " 10  NumberOfDeviceRegistered     16290 non-null  float64\n",
            " 11  PreferedOrderCat             16890 non-null  object \n",
            " 12  SatisfactionScore            16890 non-null  int64  \n",
            " 13  MaritalStatus                16290 non-null  object \n",
            " 14  NumberOfAddress              16890 non-null  int64  \n",
            " 15  Complain                     16890 non-null  int64  \n",
            " 16  OrderAmountHikeFromlastYear  16095 non-null  float64\n",
            " 17  CouponUsed                   16122 non-null  float64\n",
            " 18  OrderCount                   16116 non-null  float64\n",
            " 19  DaySinceLastOrder            15969 non-null  float64\n",
            " 20  CashbackAmount               16890 non-null  float64\n",
            "dtypes: float64(9), int64(7), object(5)\n",
            "memory usage: 2.7+ MB\n"
          ]
        }
      ]
    },
    {
      "cell_type": "code",
      "source": [
        "OnlineRetail.describe() #Quick Descriptive Summary (Numeric Data Type based)"
      ],
      "metadata": {
        "colab": {
          "base_uri": "https://localhost:8080/",
          "height": 320
        },
        "id": "um0Q228fErFV",
        "outputId": "1d8c91e0-9c14-43d2-daec-74e478ec2ce8"
      },
      "execution_count": 6,
      "outputs": [
        {
          "output_type": "execute_result",
          "data": {
            "text/plain": [
              "         Unnamed: 0    CustomerID         Churn        Tenure      CityTier  \\\n",
              "count  16890.000000  16890.000000  16890.000000  16107.000000  16890.000000   \n",
              "mean    8444.500000  52815.500000      0.168384   -176.226485      1.654707   \n",
              "std     4875.867359   1625.289097      0.374218   1353.431459      0.915335   \n",
              "min        0.000000  50001.000000      0.000000 -10000.000000      1.000000   \n",
              "25%     4222.250000  51408.000000      0.000000      2.000000      1.000000   \n",
              "50%     8444.500000  52815.500000      0.000000      9.000000      1.000000   \n",
              "75%    12666.750000  54223.000000      0.000000     16.000000      3.000000   \n",
              "max    16889.000000  55630.000000      1.000000     61.000000      3.000000   \n",
              "\n",
              "       WarehouseToHome  HourSpendOnApp  NumberOfDeviceRegistered  \\\n",
              "count     15555.000000    16125.000000              16290.000000   \n",
              "mean         15.671553        2.931535                  3.686740   \n",
              "std           8.556625        0.721881                  1.024065   \n",
              "min           5.000000        0.000000                  1.000000   \n",
              "25%           9.000000        2.000000                  3.000000   \n",
              "50%          14.000000        3.000000                  4.000000   \n",
              "75%          21.000000        3.000000                  4.000000   \n",
              "max         127.000000        5.000000                  6.000000   \n",
              "\n",
              "       SatisfactionScore  NumberOfAddress      Complain  \\\n",
              "count       16890.000000     16890.000000  16890.000000   \n",
              "mean        10470.403552         4.214032      0.284902   \n",
              "std         77841.558859         2.583433      0.451381   \n",
              "min             1.000000         1.000000      0.000000   \n",
              "25%             2.000000         2.000000      0.000000   \n",
              "50%             3.000000         3.000000      0.000000   \n",
              "75%             4.000000         6.000000      1.000000   \n",
              "max        589314.000000        22.000000      1.000000   \n",
              "\n",
              "       OrderAmountHikeFromlastYear    CouponUsed    OrderCount  \\\n",
              "count                 16095.000000  16122.000000  16116.000000   \n",
              "mean                     15.707922      1.751023      3.008004   \n",
              "std                       3.675257      1.894504      2.939497   \n",
              "min                      11.000000      0.000000      1.000000   \n",
              "25%                      13.000000      1.000000      1.000000   \n",
              "50%                      15.000000      1.000000      2.000000   \n",
              "75%                      18.000000      2.000000      3.000000   \n",
              "max                      26.000000     16.000000     16.000000   \n",
              "\n",
              "       DaySinceLastOrder  CashbackAmount  \n",
              "count       15969.000000    16890.000000  \n",
              "mean            4.543491      177.223030  \n",
              "std             3.654204       49.204123  \n",
              "min             0.000000        0.000000  \n",
              "25%             2.000000      145.770000  \n",
              "50%             3.000000      163.280000  \n",
              "75%             7.000000      196.400000  \n",
              "max            46.000000      324.990000  "
            ],
            "text/html": [
              "\n",
              "  <div id=\"df-b435cb28-f0aa-4af6-9f94-4b9695e67c35\" class=\"colab-df-container\">\n",
              "    <div>\n",
              "<style scoped>\n",
              "    .dataframe tbody tr th:only-of-type {\n",
              "        vertical-align: middle;\n",
              "    }\n",
              "\n",
              "    .dataframe tbody tr th {\n",
              "        vertical-align: top;\n",
              "    }\n",
              "\n",
              "    .dataframe thead th {\n",
              "        text-align: right;\n",
              "    }\n",
              "</style>\n",
              "<table border=\"1\" class=\"dataframe\">\n",
              "  <thead>\n",
              "    <tr style=\"text-align: right;\">\n",
              "      <th></th>\n",
              "      <th>Unnamed: 0</th>\n",
              "      <th>CustomerID</th>\n",
              "      <th>Churn</th>\n",
              "      <th>Tenure</th>\n",
              "      <th>CityTier</th>\n",
              "      <th>WarehouseToHome</th>\n",
              "      <th>HourSpendOnApp</th>\n",
              "      <th>NumberOfDeviceRegistered</th>\n",
              "      <th>SatisfactionScore</th>\n",
              "      <th>NumberOfAddress</th>\n",
              "      <th>Complain</th>\n",
              "      <th>OrderAmountHikeFromlastYear</th>\n",
              "      <th>CouponUsed</th>\n",
              "      <th>OrderCount</th>\n",
              "      <th>DaySinceLastOrder</th>\n",
              "      <th>CashbackAmount</th>\n",
              "    </tr>\n",
              "  </thead>\n",
              "  <tbody>\n",
              "    <tr>\n",
              "      <th>count</th>\n",
              "      <td>16890.000000</td>\n",
              "      <td>16890.000000</td>\n",
              "      <td>16890.000000</td>\n",
              "      <td>16107.000000</td>\n",
              "      <td>16890.000000</td>\n",
              "      <td>15555.000000</td>\n",
              "      <td>16125.000000</td>\n",
              "      <td>16290.000000</td>\n",
              "      <td>16890.000000</td>\n",
              "      <td>16890.000000</td>\n",
              "      <td>16890.000000</td>\n",
              "      <td>16095.000000</td>\n",
              "      <td>16122.000000</td>\n",
              "      <td>16116.000000</td>\n",
              "      <td>15969.000000</td>\n",
              "      <td>16890.000000</td>\n",
              "    </tr>\n",
              "    <tr>\n",
              "      <th>mean</th>\n",
              "      <td>8444.500000</td>\n",
              "      <td>52815.500000</td>\n",
              "      <td>0.168384</td>\n",
              "      <td>-176.226485</td>\n",
              "      <td>1.654707</td>\n",
              "      <td>15.671553</td>\n",
              "      <td>2.931535</td>\n",
              "      <td>3.686740</td>\n",
              "      <td>10470.403552</td>\n",
              "      <td>4.214032</td>\n",
              "      <td>0.284902</td>\n",
              "      <td>15.707922</td>\n",
              "      <td>1.751023</td>\n",
              "      <td>3.008004</td>\n",
              "      <td>4.543491</td>\n",
              "      <td>177.223030</td>\n",
              "    </tr>\n",
              "    <tr>\n",
              "      <th>std</th>\n",
              "      <td>4875.867359</td>\n",
              "      <td>1625.289097</td>\n",
              "      <td>0.374218</td>\n",
              "      <td>1353.431459</td>\n",
              "      <td>0.915335</td>\n",
              "      <td>8.556625</td>\n",
              "      <td>0.721881</td>\n",
              "      <td>1.024065</td>\n",
              "      <td>77841.558859</td>\n",
              "      <td>2.583433</td>\n",
              "      <td>0.451381</td>\n",
              "      <td>3.675257</td>\n",
              "      <td>1.894504</td>\n",
              "      <td>2.939497</td>\n",
              "      <td>3.654204</td>\n",
              "      <td>49.204123</td>\n",
              "    </tr>\n",
              "    <tr>\n",
              "      <th>min</th>\n",
              "      <td>0.000000</td>\n",
              "      <td>50001.000000</td>\n",
              "      <td>0.000000</td>\n",
              "      <td>-10000.000000</td>\n",
              "      <td>1.000000</td>\n",
              "      <td>5.000000</td>\n",
              "      <td>0.000000</td>\n",
              "      <td>1.000000</td>\n",
              "      <td>1.000000</td>\n",
              "      <td>1.000000</td>\n",
              "      <td>0.000000</td>\n",
              "      <td>11.000000</td>\n",
              "      <td>0.000000</td>\n",
              "      <td>1.000000</td>\n",
              "      <td>0.000000</td>\n",
              "      <td>0.000000</td>\n",
              "    </tr>\n",
              "    <tr>\n",
              "      <th>25%</th>\n",
              "      <td>4222.250000</td>\n",
              "      <td>51408.000000</td>\n",
              "      <td>0.000000</td>\n",
              "      <td>2.000000</td>\n",
              "      <td>1.000000</td>\n",
              "      <td>9.000000</td>\n",
              "      <td>2.000000</td>\n",
              "      <td>3.000000</td>\n",
              "      <td>2.000000</td>\n",
              "      <td>2.000000</td>\n",
              "      <td>0.000000</td>\n",
              "      <td>13.000000</td>\n",
              "      <td>1.000000</td>\n",
              "      <td>1.000000</td>\n",
              "      <td>2.000000</td>\n",
              "      <td>145.770000</td>\n",
              "    </tr>\n",
              "    <tr>\n",
              "      <th>50%</th>\n",
              "      <td>8444.500000</td>\n",
              "      <td>52815.500000</td>\n",
              "      <td>0.000000</td>\n",
              "      <td>9.000000</td>\n",
              "      <td>1.000000</td>\n",
              "      <td>14.000000</td>\n",
              "      <td>3.000000</td>\n",
              "      <td>4.000000</td>\n",
              "      <td>3.000000</td>\n",
              "      <td>3.000000</td>\n",
              "      <td>0.000000</td>\n",
              "      <td>15.000000</td>\n",
              "      <td>1.000000</td>\n",
              "      <td>2.000000</td>\n",
              "      <td>3.000000</td>\n",
              "      <td>163.280000</td>\n",
              "    </tr>\n",
              "    <tr>\n",
              "      <th>75%</th>\n",
              "      <td>12666.750000</td>\n",
              "      <td>54223.000000</td>\n",
              "      <td>0.000000</td>\n",
              "      <td>16.000000</td>\n",
              "      <td>3.000000</td>\n",
              "      <td>21.000000</td>\n",
              "      <td>3.000000</td>\n",
              "      <td>4.000000</td>\n",
              "      <td>4.000000</td>\n",
              "      <td>6.000000</td>\n",
              "      <td>1.000000</td>\n",
              "      <td>18.000000</td>\n",
              "      <td>2.000000</td>\n",
              "      <td>3.000000</td>\n",
              "      <td>7.000000</td>\n",
              "      <td>196.400000</td>\n",
              "    </tr>\n",
              "    <tr>\n",
              "      <th>max</th>\n",
              "      <td>16889.000000</td>\n",
              "      <td>55630.000000</td>\n",
              "      <td>1.000000</td>\n",
              "      <td>61.000000</td>\n",
              "      <td>3.000000</td>\n",
              "      <td>127.000000</td>\n",
              "      <td>5.000000</td>\n",
              "      <td>6.000000</td>\n",
              "      <td>589314.000000</td>\n",
              "      <td>22.000000</td>\n",
              "      <td>1.000000</td>\n",
              "      <td>26.000000</td>\n",
              "      <td>16.000000</td>\n",
              "      <td>16.000000</td>\n",
              "      <td>46.000000</td>\n",
              "      <td>324.990000</td>\n",
              "    </tr>\n",
              "  </tbody>\n",
              "</table>\n",
              "</div>\n",
              "    <div class=\"colab-df-buttons\">\n",
              "\n",
              "  <div class=\"colab-df-container\">\n",
              "    <button class=\"colab-df-convert\" onclick=\"convertToInteractive('df-b435cb28-f0aa-4af6-9f94-4b9695e67c35')\"\n",
              "            title=\"Convert this dataframe to an interactive table.\"\n",
              "            style=\"display:none;\">\n",
              "\n",
              "  <svg xmlns=\"http://www.w3.org/2000/svg\" height=\"24px\" viewBox=\"0 -960 960 960\">\n",
              "    <path d=\"M120-120v-720h720v720H120Zm60-500h600v-160H180v160Zm220 220h160v-160H400v160Zm0 220h160v-160H400v160ZM180-400h160v-160H180v160Zm440 0h160v-160H620v160ZM180-180h160v-160H180v160Zm440 0h160v-160H620v160Z\"/>\n",
              "  </svg>\n",
              "    </button>\n",
              "\n",
              "  <style>\n",
              "    .colab-df-container {\n",
              "      display:flex;\n",
              "      gap: 12px;\n",
              "    }\n",
              "\n",
              "    .colab-df-convert {\n",
              "      background-color: #E8F0FE;\n",
              "      border: none;\n",
              "      border-radius: 50%;\n",
              "      cursor: pointer;\n",
              "      display: none;\n",
              "      fill: #1967D2;\n",
              "      height: 32px;\n",
              "      padding: 0 0 0 0;\n",
              "      width: 32px;\n",
              "    }\n",
              "\n",
              "    .colab-df-convert:hover {\n",
              "      background-color: #E2EBFA;\n",
              "      box-shadow: 0px 1px 2px rgba(60, 64, 67, 0.3), 0px 1px 3px 1px rgba(60, 64, 67, 0.15);\n",
              "      fill: #174EA6;\n",
              "    }\n",
              "\n",
              "    .colab-df-buttons div {\n",
              "      margin-bottom: 4px;\n",
              "    }\n",
              "\n",
              "    [theme=dark] .colab-df-convert {\n",
              "      background-color: #3B4455;\n",
              "      fill: #D2E3FC;\n",
              "    }\n",
              "\n",
              "    [theme=dark] .colab-df-convert:hover {\n",
              "      background-color: #434B5C;\n",
              "      box-shadow: 0px 1px 3px 1px rgba(0, 0, 0, 0.15);\n",
              "      filter: drop-shadow(0px 1px 2px rgba(0, 0, 0, 0.3));\n",
              "      fill: #FFFFFF;\n",
              "    }\n",
              "  </style>\n",
              "\n",
              "    <script>\n",
              "      const buttonEl =\n",
              "        document.querySelector('#df-b435cb28-f0aa-4af6-9f94-4b9695e67c35 button.colab-df-convert');\n",
              "      buttonEl.style.display =\n",
              "        google.colab.kernel.accessAllowed ? 'block' : 'none';\n",
              "\n",
              "      async function convertToInteractive(key) {\n",
              "        const element = document.querySelector('#df-b435cb28-f0aa-4af6-9f94-4b9695e67c35');\n",
              "        const dataTable =\n",
              "          await google.colab.kernel.invokeFunction('convertToInteractive',\n",
              "                                                    [key], {});\n",
              "        if (!dataTable) return;\n",
              "\n",
              "        const docLinkHtml = 'Like what you see? Visit the ' +\n",
              "          '<a target=\"_blank\" href=https://colab.research.google.com/notebooks/data_table.ipynb>data table notebook</a>'\n",
              "          + ' to learn more about interactive tables.';\n",
              "        element.innerHTML = '';\n",
              "        dataTable['output_type'] = 'display_data';\n",
              "        await google.colab.output.renderOutput(dataTable, element);\n",
              "        const docLink = document.createElement('div');\n",
              "        docLink.innerHTML = docLinkHtml;\n",
              "        element.appendChild(docLink);\n",
              "      }\n",
              "    </script>\n",
              "  </div>\n",
              "\n",
              "\n",
              "<div id=\"df-6eb9ac11-1639-41c3-a929-5d1cc551b0bb\">\n",
              "  <button class=\"colab-df-quickchart\" onclick=\"quickchart('df-6eb9ac11-1639-41c3-a929-5d1cc551b0bb')\"\n",
              "            title=\"Suggest charts\"\n",
              "            style=\"display:none;\">\n",
              "\n",
              "<svg xmlns=\"http://www.w3.org/2000/svg\" height=\"24px\"viewBox=\"0 0 24 24\"\n",
              "     width=\"24px\">\n",
              "    <g>\n",
              "        <path d=\"M19 3H5c-1.1 0-2 .9-2 2v14c0 1.1.9 2 2 2h14c1.1 0 2-.9 2-2V5c0-1.1-.9-2-2-2zM9 17H7v-7h2v7zm4 0h-2V7h2v10zm4 0h-2v-4h2v4z\"/>\n",
              "    </g>\n",
              "</svg>\n",
              "  </button>\n",
              "\n",
              "<style>\n",
              "  .colab-df-quickchart {\n",
              "      --bg-color: #E8F0FE;\n",
              "      --fill-color: #1967D2;\n",
              "      --hover-bg-color: #E2EBFA;\n",
              "      --hover-fill-color: #174EA6;\n",
              "      --disabled-fill-color: #AAA;\n",
              "      --disabled-bg-color: #DDD;\n",
              "  }\n",
              "\n",
              "  [theme=dark] .colab-df-quickchart {\n",
              "      --bg-color: #3B4455;\n",
              "      --fill-color: #D2E3FC;\n",
              "      --hover-bg-color: #434B5C;\n",
              "      --hover-fill-color: #FFFFFF;\n",
              "      --disabled-bg-color: #3B4455;\n",
              "      --disabled-fill-color: #666;\n",
              "  }\n",
              "\n",
              "  .colab-df-quickchart {\n",
              "    background-color: var(--bg-color);\n",
              "    border: none;\n",
              "    border-radius: 50%;\n",
              "    cursor: pointer;\n",
              "    display: none;\n",
              "    fill: var(--fill-color);\n",
              "    height: 32px;\n",
              "    padding: 0;\n",
              "    width: 32px;\n",
              "  }\n",
              "\n",
              "  .colab-df-quickchart:hover {\n",
              "    background-color: var(--hover-bg-color);\n",
              "    box-shadow: 0 1px 2px rgba(60, 64, 67, 0.3), 0 1px 3px 1px rgba(60, 64, 67, 0.15);\n",
              "    fill: var(--button-hover-fill-color);\n",
              "  }\n",
              "\n",
              "  .colab-df-quickchart-complete:disabled,\n",
              "  .colab-df-quickchart-complete:disabled:hover {\n",
              "    background-color: var(--disabled-bg-color);\n",
              "    fill: var(--disabled-fill-color);\n",
              "    box-shadow: none;\n",
              "  }\n",
              "\n",
              "  .colab-df-spinner {\n",
              "    border: 2px solid var(--fill-color);\n",
              "    border-color: transparent;\n",
              "    border-bottom-color: var(--fill-color);\n",
              "    animation:\n",
              "      spin 1s steps(1) infinite;\n",
              "  }\n",
              "\n",
              "  @keyframes spin {\n",
              "    0% {\n",
              "      border-color: transparent;\n",
              "      border-bottom-color: var(--fill-color);\n",
              "      border-left-color: var(--fill-color);\n",
              "    }\n",
              "    20% {\n",
              "      border-color: transparent;\n",
              "      border-left-color: var(--fill-color);\n",
              "      border-top-color: var(--fill-color);\n",
              "    }\n",
              "    30% {\n",
              "      border-color: transparent;\n",
              "      border-left-color: var(--fill-color);\n",
              "      border-top-color: var(--fill-color);\n",
              "      border-right-color: var(--fill-color);\n",
              "    }\n",
              "    40% {\n",
              "      border-color: transparent;\n",
              "      border-right-color: var(--fill-color);\n",
              "      border-top-color: var(--fill-color);\n",
              "    }\n",
              "    60% {\n",
              "      border-color: transparent;\n",
              "      border-right-color: var(--fill-color);\n",
              "    }\n",
              "    80% {\n",
              "      border-color: transparent;\n",
              "      border-right-color: var(--fill-color);\n",
              "      border-bottom-color: var(--fill-color);\n",
              "    }\n",
              "    90% {\n",
              "      border-color: transparent;\n",
              "      border-bottom-color: var(--fill-color);\n",
              "    }\n",
              "  }\n",
              "</style>\n",
              "\n",
              "  <script>\n",
              "    async function quickchart(key) {\n",
              "      const quickchartButtonEl =\n",
              "        document.querySelector('#' + key + ' button');\n",
              "      quickchartButtonEl.disabled = true;  // To prevent multiple clicks.\n",
              "      quickchartButtonEl.classList.add('colab-df-spinner');\n",
              "      try {\n",
              "        const charts = await google.colab.kernel.invokeFunction(\n",
              "            'suggestCharts', [key], {});\n",
              "      } catch (error) {\n",
              "        console.error('Error during call to suggestCharts:', error);\n",
              "      }\n",
              "      quickchartButtonEl.classList.remove('colab-df-spinner');\n",
              "      quickchartButtonEl.classList.add('colab-df-quickchart-complete');\n",
              "    }\n",
              "    (() => {\n",
              "      let quickchartButtonEl =\n",
              "        document.querySelector('#df-6eb9ac11-1639-41c3-a929-5d1cc551b0bb button');\n",
              "      quickchartButtonEl.style.display =\n",
              "        google.colab.kernel.accessAllowed ? 'block' : 'none';\n",
              "    })();\n",
              "  </script>\n",
              "</div>\n",
              "    </div>\n",
              "  </div>\n"
            ]
          },
          "metadata": {},
          "execution_count": 6
        }
      ]
    },
    {
      "cell_type": "code",
      "source": [
        "OnlineRetail.describe(include='object') #Quick Descriptive Summary (Object Data Type based)"
      ],
      "metadata": {
        "colab": {
          "base_uri": "https://localhost:8080/",
          "height": 175
        },
        "id": "eb8DEr4wEyHi",
        "outputId": "b553fa0e-5562-4f9d-a227-8cac6d85cda8"
      },
      "execution_count": 7,
      "outputs": [
        {
          "output_type": "execute_result",
          "data": {
            "text/plain": [
              "       PreferredLoginDevice PreferredPaymentMode Gender    PreferedOrderCat  \\\n",
              "count                 16890                16290  16890               16890   \n",
              "unique                    4                    7      4                   6   \n",
              "top            Mobile Phone           Debit Card   Male  Laptop & Accessory   \n",
              "freq                   8205                 6687   9561                6150   \n",
              "\n",
              "       MaritalStatus  \n",
              "count          16290  \n",
              "unique             3  \n",
              "top          Married  \n",
              "freq            8637  "
            ],
            "text/html": [
              "\n",
              "  <div id=\"df-e1e087e6-3219-4998-bd42-d895fc700cf2\" class=\"colab-df-container\">\n",
              "    <div>\n",
              "<style scoped>\n",
              "    .dataframe tbody tr th:only-of-type {\n",
              "        vertical-align: middle;\n",
              "    }\n",
              "\n",
              "    .dataframe tbody tr th {\n",
              "        vertical-align: top;\n",
              "    }\n",
              "\n",
              "    .dataframe thead th {\n",
              "        text-align: right;\n",
              "    }\n",
              "</style>\n",
              "<table border=\"1\" class=\"dataframe\">\n",
              "  <thead>\n",
              "    <tr style=\"text-align: right;\">\n",
              "      <th></th>\n",
              "      <th>PreferredLoginDevice</th>\n",
              "      <th>PreferredPaymentMode</th>\n",
              "      <th>Gender</th>\n",
              "      <th>PreferedOrderCat</th>\n",
              "      <th>MaritalStatus</th>\n",
              "    </tr>\n",
              "  </thead>\n",
              "  <tbody>\n",
              "    <tr>\n",
              "      <th>count</th>\n",
              "      <td>16890</td>\n",
              "      <td>16290</td>\n",
              "      <td>16890</td>\n",
              "      <td>16890</td>\n",
              "      <td>16290</td>\n",
              "    </tr>\n",
              "    <tr>\n",
              "      <th>unique</th>\n",
              "      <td>4</td>\n",
              "      <td>7</td>\n",
              "      <td>4</td>\n",
              "      <td>6</td>\n",
              "      <td>3</td>\n",
              "    </tr>\n",
              "    <tr>\n",
              "      <th>top</th>\n",
              "      <td>Mobile Phone</td>\n",
              "      <td>Debit Card</td>\n",
              "      <td>Male</td>\n",
              "      <td>Laptop &amp; Accessory</td>\n",
              "      <td>Married</td>\n",
              "    </tr>\n",
              "    <tr>\n",
              "      <th>freq</th>\n",
              "      <td>8205</td>\n",
              "      <td>6687</td>\n",
              "      <td>9561</td>\n",
              "      <td>6150</td>\n",
              "      <td>8637</td>\n",
              "    </tr>\n",
              "  </tbody>\n",
              "</table>\n",
              "</div>\n",
              "    <div class=\"colab-df-buttons\">\n",
              "\n",
              "  <div class=\"colab-df-container\">\n",
              "    <button class=\"colab-df-convert\" onclick=\"convertToInteractive('df-e1e087e6-3219-4998-bd42-d895fc700cf2')\"\n",
              "            title=\"Convert this dataframe to an interactive table.\"\n",
              "            style=\"display:none;\">\n",
              "\n",
              "  <svg xmlns=\"http://www.w3.org/2000/svg\" height=\"24px\" viewBox=\"0 -960 960 960\">\n",
              "    <path d=\"M120-120v-720h720v720H120Zm60-500h600v-160H180v160Zm220 220h160v-160H400v160Zm0 220h160v-160H400v160ZM180-400h160v-160H180v160Zm440 0h160v-160H620v160ZM180-180h160v-160H180v160Zm440 0h160v-160H620v160Z\"/>\n",
              "  </svg>\n",
              "    </button>\n",
              "\n",
              "  <style>\n",
              "    .colab-df-container {\n",
              "      display:flex;\n",
              "      gap: 12px;\n",
              "    }\n",
              "\n",
              "    .colab-df-convert {\n",
              "      background-color: #E8F0FE;\n",
              "      border: none;\n",
              "      border-radius: 50%;\n",
              "      cursor: pointer;\n",
              "      display: none;\n",
              "      fill: #1967D2;\n",
              "      height: 32px;\n",
              "      padding: 0 0 0 0;\n",
              "      width: 32px;\n",
              "    }\n",
              "\n",
              "    .colab-df-convert:hover {\n",
              "      background-color: #E2EBFA;\n",
              "      box-shadow: 0px 1px 2px rgba(60, 64, 67, 0.3), 0px 1px 3px 1px rgba(60, 64, 67, 0.15);\n",
              "      fill: #174EA6;\n",
              "    }\n",
              "\n",
              "    .colab-df-buttons div {\n",
              "      margin-bottom: 4px;\n",
              "    }\n",
              "\n",
              "    [theme=dark] .colab-df-convert {\n",
              "      background-color: #3B4455;\n",
              "      fill: #D2E3FC;\n",
              "    }\n",
              "\n",
              "    [theme=dark] .colab-df-convert:hover {\n",
              "      background-color: #434B5C;\n",
              "      box-shadow: 0px 1px 3px 1px rgba(0, 0, 0, 0.15);\n",
              "      filter: drop-shadow(0px 1px 2px rgba(0, 0, 0, 0.3));\n",
              "      fill: #FFFFFF;\n",
              "    }\n",
              "  </style>\n",
              "\n",
              "    <script>\n",
              "      const buttonEl =\n",
              "        document.querySelector('#df-e1e087e6-3219-4998-bd42-d895fc700cf2 button.colab-df-convert');\n",
              "      buttonEl.style.display =\n",
              "        google.colab.kernel.accessAllowed ? 'block' : 'none';\n",
              "\n",
              "      async function convertToInteractive(key) {\n",
              "        const element = document.querySelector('#df-e1e087e6-3219-4998-bd42-d895fc700cf2');\n",
              "        const dataTable =\n",
              "          await google.colab.kernel.invokeFunction('convertToInteractive',\n",
              "                                                    [key], {});\n",
              "        if (!dataTable) return;\n",
              "\n",
              "        const docLinkHtml = 'Like what you see? Visit the ' +\n",
              "          '<a target=\"_blank\" href=https://colab.research.google.com/notebooks/data_table.ipynb>data table notebook</a>'\n",
              "          + ' to learn more about interactive tables.';\n",
              "        element.innerHTML = '';\n",
              "        dataTable['output_type'] = 'display_data';\n",
              "        await google.colab.output.renderOutput(dataTable, element);\n",
              "        const docLink = document.createElement('div');\n",
              "        docLink.innerHTML = docLinkHtml;\n",
              "        element.appendChild(docLink);\n",
              "      }\n",
              "    </script>\n",
              "  </div>\n",
              "\n",
              "\n",
              "<div id=\"df-3fd97fde-0196-4dc3-beea-847f018e716c\">\n",
              "  <button class=\"colab-df-quickchart\" onclick=\"quickchart('df-3fd97fde-0196-4dc3-beea-847f018e716c')\"\n",
              "            title=\"Suggest charts\"\n",
              "            style=\"display:none;\">\n",
              "\n",
              "<svg xmlns=\"http://www.w3.org/2000/svg\" height=\"24px\"viewBox=\"0 0 24 24\"\n",
              "     width=\"24px\">\n",
              "    <g>\n",
              "        <path d=\"M19 3H5c-1.1 0-2 .9-2 2v14c0 1.1.9 2 2 2h14c1.1 0 2-.9 2-2V5c0-1.1-.9-2-2-2zM9 17H7v-7h2v7zm4 0h-2V7h2v10zm4 0h-2v-4h2v4z\"/>\n",
              "    </g>\n",
              "</svg>\n",
              "  </button>\n",
              "\n",
              "<style>\n",
              "  .colab-df-quickchart {\n",
              "      --bg-color: #E8F0FE;\n",
              "      --fill-color: #1967D2;\n",
              "      --hover-bg-color: #E2EBFA;\n",
              "      --hover-fill-color: #174EA6;\n",
              "      --disabled-fill-color: #AAA;\n",
              "      --disabled-bg-color: #DDD;\n",
              "  }\n",
              "\n",
              "  [theme=dark] .colab-df-quickchart {\n",
              "      --bg-color: #3B4455;\n",
              "      --fill-color: #D2E3FC;\n",
              "      --hover-bg-color: #434B5C;\n",
              "      --hover-fill-color: #FFFFFF;\n",
              "      --disabled-bg-color: #3B4455;\n",
              "      --disabled-fill-color: #666;\n",
              "  }\n",
              "\n",
              "  .colab-df-quickchart {\n",
              "    background-color: var(--bg-color);\n",
              "    border: none;\n",
              "    border-radius: 50%;\n",
              "    cursor: pointer;\n",
              "    display: none;\n",
              "    fill: var(--fill-color);\n",
              "    height: 32px;\n",
              "    padding: 0;\n",
              "    width: 32px;\n",
              "  }\n",
              "\n",
              "  .colab-df-quickchart:hover {\n",
              "    background-color: var(--hover-bg-color);\n",
              "    box-shadow: 0 1px 2px rgba(60, 64, 67, 0.3), 0 1px 3px 1px rgba(60, 64, 67, 0.15);\n",
              "    fill: var(--button-hover-fill-color);\n",
              "  }\n",
              "\n",
              "  .colab-df-quickchart-complete:disabled,\n",
              "  .colab-df-quickchart-complete:disabled:hover {\n",
              "    background-color: var(--disabled-bg-color);\n",
              "    fill: var(--disabled-fill-color);\n",
              "    box-shadow: none;\n",
              "  }\n",
              "\n",
              "  .colab-df-spinner {\n",
              "    border: 2px solid var(--fill-color);\n",
              "    border-color: transparent;\n",
              "    border-bottom-color: var(--fill-color);\n",
              "    animation:\n",
              "      spin 1s steps(1) infinite;\n",
              "  }\n",
              "\n",
              "  @keyframes spin {\n",
              "    0% {\n",
              "      border-color: transparent;\n",
              "      border-bottom-color: var(--fill-color);\n",
              "      border-left-color: var(--fill-color);\n",
              "    }\n",
              "    20% {\n",
              "      border-color: transparent;\n",
              "      border-left-color: var(--fill-color);\n",
              "      border-top-color: var(--fill-color);\n",
              "    }\n",
              "    30% {\n",
              "      border-color: transparent;\n",
              "      border-left-color: var(--fill-color);\n",
              "      border-top-color: var(--fill-color);\n",
              "      border-right-color: var(--fill-color);\n",
              "    }\n",
              "    40% {\n",
              "      border-color: transparent;\n",
              "      border-right-color: var(--fill-color);\n",
              "      border-top-color: var(--fill-color);\n",
              "    }\n",
              "    60% {\n",
              "      border-color: transparent;\n",
              "      border-right-color: var(--fill-color);\n",
              "    }\n",
              "    80% {\n",
              "      border-color: transparent;\n",
              "      border-right-color: var(--fill-color);\n",
              "      border-bottom-color: var(--fill-color);\n",
              "    }\n",
              "    90% {\n",
              "      border-color: transparent;\n",
              "      border-bottom-color: var(--fill-color);\n",
              "    }\n",
              "  }\n",
              "</style>\n",
              "\n",
              "  <script>\n",
              "    async function quickchart(key) {\n",
              "      const quickchartButtonEl =\n",
              "        document.querySelector('#' + key + ' button');\n",
              "      quickchartButtonEl.disabled = true;  // To prevent multiple clicks.\n",
              "      quickchartButtonEl.classList.add('colab-df-spinner');\n",
              "      try {\n",
              "        const charts = await google.colab.kernel.invokeFunction(\n",
              "            'suggestCharts', [key], {});\n",
              "      } catch (error) {\n",
              "        console.error('Error during call to suggestCharts:', error);\n",
              "      }\n",
              "      quickchartButtonEl.classList.remove('colab-df-spinner');\n",
              "      quickchartButtonEl.classList.add('colab-df-quickchart-complete');\n",
              "    }\n",
              "    (() => {\n",
              "      let quickchartButtonEl =\n",
              "        document.querySelector('#df-3fd97fde-0196-4dc3-beea-847f018e716c button');\n",
              "      quickchartButtonEl.style.display =\n",
              "        google.colab.kernel.accessAllowed ? 'block' : 'none';\n",
              "    })();\n",
              "  </script>\n",
              "</div>\n",
              "    </div>\n",
              "  </div>\n"
            ]
          },
          "metadata": {},
          "execution_count": 7
        }
      ]
    },
    {
      "cell_type": "markdown",
      "source": [
        "Exploratory Data Analysis"
      ],
      "metadata": {
        "id": "mn8befkhRqle"
      }
    },
    {
      "cell_type": "code",
      "source": [
        "#Making Sure there are no inconsistent columns\n",
        "OnlineRetail.columns"
      ],
      "metadata": {
        "colab": {
          "base_uri": "https://localhost:8080/"
        },
        "id": "iv7ulPpSQ8c-",
        "outputId": "cc9ea699-99d9-41c8-bbfc-feee47858beb"
      },
      "execution_count": 8,
      "outputs": [
        {
          "output_type": "execute_result",
          "data": {
            "text/plain": [
              "Index(['Unnamed: 0', 'CustomerID', 'Churn', 'Tenure', 'PreferredLoginDevice',\n",
              "       'CityTier', 'WarehouseToHome', 'PreferredPaymentMode', 'Gender',\n",
              "       'HourSpendOnApp', 'NumberOfDeviceRegistered', 'PreferedOrderCat',\n",
              "       'SatisfactionScore', 'MaritalStatus', 'NumberOfAddress', 'Complain',\n",
              "       'OrderAmountHikeFromlastYear', 'CouponUsed', 'OrderCount',\n",
              "       'DaySinceLastOrder', 'CashbackAmount'],\n",
              "      dtype='object')"
            ]
          },
          "metadata": {},
          "execution_count": 8
        }
      ]
    },
    {
      "cell_type": "code",
      "source": [
        "#Dropping 'Unnamed: 0' Column\n",
        "OnlineRetail.drop('Unnamed: 0', axis = 1, inplace = True)"
      ],
      "metadata": {
        "id": "m1lfc7aIQ8gm"
      },
      "execution_count": 9,
      "outputs": []
    },
    {
      "cell_type": "code",
      "source": [
        "OnlineRetail.shape #Figuring out the shape of the data"
      ],
      "metadata": {
        "colab": {
          "base_uri": "https://localhost:8080/"
        },
        "id": "RDxeU4GuRyD9",
        "outputId": "a9f18720-ffca-40d3-b4fa-e1f52cea9db8"
      },
      "execution_count": 10,
      "outputs": [
        {
          "output_type": "execute_result",
          "data": {
            "text/plain": [
              "(16890, 20)"
            ]
          },
          "metadata": {},
          "execution_count": 10
        }
      ]
    },
    {
      "cell_type": "code",
      "source": [
        "OnlineRetail.info() #Figuring out columns' data types"
      ],
      "metadata": {
        "colab": {
          "base_uri": "https://localhost:8080/"
        },
        "id": "bhj6pzDuR1i9",
        "outputId": "030b3760-8942-4bce-83ad-e7a03ace6321"
      },
      "execution_count": 11,
      "outputs": [
        {
          "output_type": "stream",
          "name": "stdout",
          "text": [
            "<class 'pandas.core.frame.DataFrame'>\n",
            "RangeIndex: 16890 entries, 0 to 16889\n",
            "Data columns (total 20 columns):\n",
            " #   Column                       Non-Null Count  Dtype  \n",
            "---  ------                       --------------  -----  \n",
            " 0   CustomerID                   16890 non-null  int64  \n",
            " 1   Churn                        16890 non-null  int64  \n",
            " 2   Tenure                       16107 non-null  float64\n",
            " 3   PreferredLoginDevice         16890 non-null  object \n",
            " 4   CityTier                     16890 non-null  int64  \n",
            " 5   WarehouseToHome              15555 non-null  float64\n",
            " 6   PreferredPaymentMode         16290 non-null  object \n",
            " 7   Gender                       16890 non-null  object \n",
            " 8   HourSpendOnApp               16125 non-null  float64\n",
            " 9   NumberOfDeviceRegistered     16290 non-null  float64\n",
            " 10  PreferedOrderCat             16890 non-null  object \n",
            " 11  SatisfactionScore            16890 non-null  int64  \n",
            " 12  MaritalStatus                16290 non-null  object \n",
            " 13  NumberOfAddress              16890 non-null  int64  \n",
            " 14  Complain                     16890 non-null  int64  \n",
            " 15  OrderAmountHikeFromlastYear  16095 non-null  float64\n",
            " 16  CouponUsed                   16122 non-null  float64\n",
            " 17  OrderCount                   16116 non-null  float64\n",
            " 18  DaySinceLastOrder            15969 non-null  float64\n",
            " 19  CashbackAmount               16890 non-null  float64\n",
            "dtypes: float64(9), int64(6), object(5)\n",
            "memory usage: 2.6+ MB\n"
          ]
        }
      ]
    },
    {
      "cell_type": "markdown",
      "source": [
        "Figuring out null values"
      ],
      "metadata": {
        "id": "jO04lA0hR47O"
      }
    },
    {
      "cell_type": "code",
      "source": [
        "OnlineRetail.isnull().sum() #Figuring out the number of null values in each column"
      ],
      "metadata": {
        "colab": {
          "base_uri": "https://localhost:8080/"
        },
        "id": "hRvtV-YUR1mH",
        "outputId": "d53288c3-6d15-4880-bfa3-7f62a54d38bd"
      },
      "execution_count": 12,
      "outputs": [
        {
          "output_type": "execute_result",
          "data": {
            "text/plain": [
              "CustomerID                        0\n",
              "Churn                             0\n",
              "Tenure                          783\n",
              "PreferredLoginDevice              0\n",
              "CityTier                          0\n",
              "WarehouseToHome                1335\n",
              "PreferredPaymentMode            600\n",
              "Gender                            0\n",
              "HourSpendOnApp                  765\n",
              "NumberOfDeviceRegistered        600\n",
              "PreferedOrderCat                  0\n",
              "SatisfactionScore                 0\n",
              "MaritalStatus                   600\n",
              "NumberOfAddress                   0\n",
              "Complain                          0\n",
              "OrderAmountHikeFromlastYear     795\n",
              "CouponUsed                      768\n",
              "OrderCount                      774\n",
              "DaySinceLastOrder               921\n",
              "CashbackAmount                    0\n",
              "dtype: int64"
            ]
          },
          "metadata": {},
          "execution_count": 12
        }
      ]
    },
    {
      "cell_type": "markdown",
      "source": [
        "Figuring out duplicate values"
      ],
      "metadata": {
        "id": "B09pbHnnR-Oq"
      }
    },
    {
      "cell_type": "code",
      "source": [
        "OnlineRetail.pivot_table(index=['CustomerID'], aggfunc ='size') #Figuring Out if there are any duplicate value"
      ],
      "metadata": {
        "colab": {
          "base_uri": "https://localhost:8080/"
        },
        "id": "hHs6Fw28SAye",
        "outputId": "db771f74-484e-4fa1-caef-f2711a43eb48"
      },
      "execution_count": 13,
      "outputs": [
        {
          "output_type": "execute_result",
          "data": {
            "text/plain": [
              "CustomerID\n",
              "50001    3\n",
              "50002    3\n",
              "50003    3\n",
              "50004    3\n",
              "50005    3\n",
              "        ..\n",
              "55626    3\n",
              "55627    3\n",
              "55628    3\n",
              "55629    3\n",
              "55630    3\n",
              "Length: 5630, dtype: int64"
            ]
          },
          "metadata": {},
          "execution_count": 13
        }
      ]
    },
    {
      "cell_type": "code",
      "source": [
        "OnlineRetail.duplicated().sum() #Figuring out if there are any duplicate values (on row level)"
      ],
      "metadata": {
        "colab": {
          "base_uri": "https://localhost:8080/"
        },
        "id": "UR3SXOvmSDi9",
        "outputId": "1ab46bb1-ccb2-4311-c7c3-f96c8a6499f3"
      },
      "execution_count": 14,
      "outputs": [
        {
          "output_type": "execute_result",
          "data": {
            "text/plain": [
              "11260"
            ]
          },
          "metadata": {},
          "execution_count": 14
        }
      ]
    },
    {
      "cell_type": "markdown",
      "source": [
        "Quick statistical overview"
      ],
      "metadata": {
        "id": "zfKut9noSN63"
      }
    },
    {
      "cell_type": "code",
      "source": [
        "OnlineRetail.describe() #Quick Descriptive Summary (Numeric Data Type based)"
      ],
      "metadata": {
        "colab": {
          "base_uri": "https://localhost:8080/",
          "height": 320
        },
        "id": "3BVn7GBbSRF1",
        "outputId": "c15439c0-a7aa-4a45-ed7b-b030e241041c"
      },
      "execution_count": 15,
      "outputs": [
        {
          "output_type": "execute_result",
          "data": {
            "text/plain": [
              "         CustomerID         Churn        Tenure      CityTier  \\\n",
              "count  16890.000000  16890.000000  16107.000000  16890.000000   \n",
              "mean   52815.500000      0.168384   -176.226485      1.654707   \n",
              "std     1625.289097      0.374218   1353.431459      0.915335   \n",
              "min    50001.000000      0.000000 -10000.000000      1.000000   \n",
              "25%    51408.000000      0.000000      2.000000      1.000000   \n",
              "50%    52815.500000      0.000000      9.000000      1.000000   \n",
              "75%    54223.000000      0.000000     16.000000      3.000000   \n",
              "max    55630.000000      1.000000     61.000000      3.000000   \n",
              "\n",
              "       WarehouseToHome  HourSpendOnApp  NumberOfDeviceRegistered  \\\n",
              "count     15555.000000    16125.000000              16290.000000   \n",
              "mean         15.671553        2.931535                  3.686740   \n",
              "std           8.556625        0.721881                  1.024065   \n",
              "min           5.000000        0.000000                  1.000000   \n",
              "25%           9.000000        2.000000                  3.000000   \n",
              "50%          14.000000        3.000000                  4.000000   \n",
              "75%          21.000000        3.000000                  4.000000   \n",
              "max         127.000000        5.000000                  6.000000   \n",
              "\n",
              "       SatisfactionScore  NumberOfAddress      Complain  \\\n",
              "count       16890.000000     16890.000000  16890.000000   \n",
              "mean        10470.403552         4.214032      0.284902   \n",
              "std         77841.558859         2.583433      0.451381   \n",
              "min             1.000000         1.000000      0.000000   \n",
              "25%             2.000000         2.000000      0.000000   \n",
              "50%             3.000000         3.000000      0.000000   \n",
              "75%             4.000000         6.000000      1.000000   \n",
              "max        589314.000000        22.000000      1.000000   \n",
              "\n",
              "       OrderAmountHikeFromlastYear    CouponUsed    OrderCount  \\\n",
              "count                 16095.000000  16122.000000  16116.000000   \n",
              "mean                     15.707922      1.751023      3.008004   \n",
              "std                       3.675257      1.894504      2.939497   \n",
              "min                      11.000000      0.000000      1.000000   \n",
              "25%                      13.000000      1.000000      1.000000   \n",
              "50%                      15.000000      1.000000      2.000000   \n",
              "75%                      18.000000      2.000000      3.000000   \n",
              "max                      26.000000     16.000000     16.000000   \n",
              "\n",
              "       DaySinceLastOrder  CashbackAmount  \n",
              "count       15969.000000    16890.000000  \n",
              "mean            4.543491      177.223030  \n",
              "std             3.654204       49.204123  \n",
              "min             0.000000        0.000000  \n",
              "25%             2.000000      145.770000  \n",
              "50%             3.000000      163.280000  \n",
              "75%             7.000000      196.400000  \n",
              "max            46.000000      324.990000  "
            ],
            "text/html": [
              "\n",
              "  <div id=\"df-d5953b9f-ad8f-406b-9dfc-0295959830c3\" class=\"colab-df-container\">\n",
              "    <div>\n",
              "<style scoped>\n",
              "    .dataframe tbody tr th:only-of-type {\n",
              "        vertical-align: middle;\n",
              "    }\n",
              "\n",
              "    .dataframe tbody tr th {\n",
              "        vertical-align: top;\n",
              "    }\n",
              "\n",
              "    .dataframe thead th {\n",
              "        text-align: right;\n",
              "    }\n",
              "</style>\n",
              "<table border=\"1\" class=\"dataframe\">\n",
              "  <thead>\n",
              "    <tr style=\"text-align: right;\">\n",
              "      <th></th>\n",
              "      <th>CustomerID</th>\n",
              "      <th>Churn</th>\n",
              "      <th>Tenure</th>\n",
              "      <th>CityTier</th>\n",
              "      <th>WarehouseToHome</th>\n",
              "      <th>HourSpendOnApp</th>\n",
              "      <th>NumberOfDeviceRegistered</th>\n",
              "      <th>SatisfactionScore</th>\n",
              "      <th>NumberOfAddress</th>\n",
              "      <th>Complain</th>\n",
              "      <th>OrderAmountHikeFromlastYear</th>\n",
              "      <th>CouponUsed</th>\n",
              "      <th>OrderCount</th>\n",
              "      <th>DaySinceLastOrder</th>\n",
              "      <th>CashbackAmount</th>\n",
              "    </tr>\n",
              "  </thead>\n",
              "  <tbody>\n",
              "    <tr>\n",
              "      <th>count</th>\n",
              "      <td>16890.000000</td>\n",
              "      <td>16890.000000</td>\n",
              "      <td>16107.000000</td>\n",
              "      <td>16890.000000</td>\n",
              "      <td>15555.000000</td>\n",
              "      <td>16125.000000</td>\n",
              "      <td>16290.000000</td>\n",
              "      <td>16890.000000</td>\n",
              "      <td>16890.000000</td>\n",
              "      <td>16890.000000</td>\n",
              "      <td>16095.000000</td>\n",
              "      <td>16122.000000</td>\n",
              "      <td>16116.000000</td>\n",
              "      <td>15969.000000</td>\n",
              "      <td>16890.000000</td>\n",
              "    </tr>\n",
              "    <tr>\n",
              "      <th>mean</th>\n",
              "      <td>52815.500000</td>\n",
              "      <td>0.168384</td>\n",
              "      <td>-176.226485</td>\n",
              "      <td>1.654707</td>\n",
              "      <td>15.671553</td>\n",
              "      <td>2.931535</td>\n",
              "      <td>3.686740</td>\n",
              "      <td>10470.403552</td>\n",
              "      <td>4.214032</td>\n",
              "      <td>0.284902</td>\n",
              "      <td>15.707922</td>\n",
              "      <td>1.751023</td>\n",
              "      <td>3.008004</td>\n",
              "      <td>4.543491</td>\n",
              "      <td>177.223030</td>\n",
              "    </tr>\n",
              "    <tr>\n",
              "      <th>std</th>\n",
              "      <td>1625.289097</td>\n",
              "      <td>0.374218</td>\n",
              "      <td>1353.431459</td>\n",
              "      <td>0.915335</td>\n",
              "      <td>8.556625</td>\n",
              "      <td>0.721881</td>\n",
              "      <td>1.024065</td>\n",
              "      <td>77841.558859</td>\n",
              "      <td>2.583433</td>\n",
              "      <td>0.451381</td>\n",
              "      <td>3.675257</td>\n",
              "      <td>1.894504</td>\n",
              "      <td>2.939497</td>\n",
              "      <td>3.654204</td>\n",
              "      <td>49.204123</td>\n",
              "    </tr>\n",
              "    <tr>\n",
              "      <th>min</th>\n",
              "      <td>50001.000000</td>\n",
              "      <td>0.000000</td>\n",
              "      <td>-10000.000000</td>\n",
              "      <td>1.000000</td>\n",
              "      <td>5.000000</td>\n",
              "      <td>0.000000</td>\n",
              "      <td>1.000000</td>\n",
              "      <td>1.000000</td>\n",
              "      <td>1.000000</td>\n",
              "      <td>0.000000</td>\n",
              "      <td>11.000000</td>\n",
              "      <td>0.000000</td>\n",
              "      <td>1.000000</td>\n",
              "      <td>0.000000</td>\n",
              "      <td>0.000000</td>\n",
              "    </tr>\n",
              "    <tr>\n",
              "      <th>25%</th>\n",
              "      <td>51408.000000</td>\n",
              "      <td>0.000000</td>\n",
              "      <td>2.000000</td>\n",
              "      <td>1.000000</td>\n",
              "      <td>9.000000</td>\n",
              "      <td>2.000000</td>\n",
              "      <td>3.000000</td>\n",
              "      <td>2.000000</td>\n",
              "      <td>2.000000</td>\n",
              "      <td>0.000000</td>\n",
              "      <td>13.000000</td>\n",
              "      <td>1.000000</td>\n",
              "      <td>1.000000</td>\n",
              "      <td>2.000000</td>\n",
              "      <td>145.770000</td>\n",
              "    </tr>\n",
              "    <tr>\n",
              "      <th>50%</th>\n",
              "      <td>52815.500000</td>\n",
              "      <td>0.000000</td>\n",
              "      <td>9.000000</td>\n",
              "      <td>1.000000</td>\n",
              "      <td>14.000000</td>\n",
              "      <td>3.000000</td>\n",
              "      <td>4.000000</td>\n",
              "      <td>3.000000</td>\n",
              "      <td>3.000000</td>\n",
              "      <td>0.000000</td>\n",
              "      <td>15.000000</td>\n",
              "      <td>1.000000</td>\n",
              "      <td>2.000000</td>\n",
              "      <td>3.000000</td>\n",
              "      <td>163.280000</td>\n",
              "    </tr>\n",
              "    <tr>\n",
              "      <th>75%</th>\n",
              "      <td>54223.000000</td>\n",
              "      <td>0.000000</td>\n",
              "      <td>16.000000</td>\n",
              "      <td>3.000000</td>\n",
              "      <td>21.000000</td>\n",
              "      <td>3.000000</td>\n",
              "      <td>4.000000</td>\n",
              "      <td>4.000000</td>\n",
              "      <td>6.000000</td>\n",
              "      <td>1.000000</td>\n",
              "      <td>18.000000</td>\n",
              "      <td>2.000000</td>\n",
              "      <td>3.000000</td>\n",
              "      <td>7.000000</td>\n",
              "      <td>196.400000</td>\n",
              "    </tr>\n",
              "    <tr>\n",
              "      <th>max</th>\n",
              "      <td>55630.000000</td>\n",
              "      <td>1.000000</td>\n",
              "      <td>61.000000</td>\n",
              "      <td>3.000000</td>\n",
              "      <td>127.000000</td>\n",
              "      <td>5.000000</td>\n",
              "      <td>6.000000</td>\n",
              "      <td>589314.000000</td>\n",
              "      <td>22.000000</td>\n",
              "      <td>1.000000</td>\n",
              "      <td>26.000000</td>\n",
              "      <td>16.000000</td>\n",
              "      <td>16.000000</td>\n",
              "      <td>46.000000</td>\n",
              "      <td>324.990000</td>\n",
              "    </tr>\n",
              "  </tbody>\n",
              "</table>\n",
              "</div>\n",
              "    <div class=\"colab-df-buttons\">\n",
              "\n",
              "  <div class=\"colab-df-container\">\n",
              "    <button class=\"colab-df-convert\" onclick=\"convertToInteractive('df-d5953b9f-ad8f-406b-9dfc-0295959830c3')\"\n",
              "            title=\"Convert this dataframe to an interactive table.\"\n",
              "            style=\"display:none;\">\n",
              "\n",
              "  <svg xmlns=\"http://www.w3.org/2000/svg\" height=\"24px\" viewBox=\"0 -960 960 960\">\n",
              "    <path d=\"M120-120v-720h720v720H120Zm60-500h600v-160H180v160Zm220 220h160v-160H400v160Zm0 220h160v-160H400v160ZM180-400h160v-160H180v160Zm440 0h160v-160H620v160ZM180-180h160v-160H180v160Zm440 0h160v-160H620v160Z\"/>\n",
              "  </svg>\n",
              "    </button>\n",
              "\n",
              "  <style>\n",
              "    .colab-df-container {\n",
              "      display:flex;\n",
              "      gap: 12px;\n",
              "    }\n",
              "\n",
              "    .colab-df-convert {\n",
              "      background-color: #E8F0FE;\n",
              "      border: none;\n",
              "      border-radius: 50%;\n",
              "      cursor: pointer;\n",
              "      display: none;\n",
              "      fill: #1967D2;\n",
              "      height: 32px;\n",
              "      padding: 0 0 0 0;\n",
              "      width: 32px;\n",
              "    }\n",
              "\n",
              "    .colab-df-convert:hover {\n",
              "      background-color: #E2EBFA;\n",
              "      box-shadow: 0px 1px 2px rgba(60, 64, 67, 0.3), 0px 1px 3px 1px rgba(60, 64, 67, 0.15);\n",
              "      fill: #174EA6;\n",
              "    }\n",
              "\n",
              "    .colab-df-buttons div {\n",
              "      margin-bottom: 4px;\n",
              "    }\n",
              "\n",
              "    [theme=dark] .colab-df-convert {\n",
              "      background-color: #3B4455;\n",
              "      fill: #D2E3FC;\n",
              "    }\n",
              "\n",
              "    [theme=dark] .colab-df-convert:hover {\n",
              "      background-color: #434B5C;\n",
              "      box-shadow: 0px 1px 3px 1px rgba(0, 0, 0, 0.15);\n",
              "      filter: drop-shadow(0px 1px 2px rgba(0, 0, 0, 0.3));\n",
              "      fill: #FFFFFF;\n",
              "    }\n",
              "  </style>\n",
              "\n",
              "    <script>\n",
              "      const buttonEl =\n",
              "        document.querySelector('#df-d5953b9f-ad8f-406b-9dfc-0295959830c3 button.colab-df-convert');\n",
              "      buttonEl.style.display =\n",
              "        google.colab.kernel.accessAllowed ? 'block' : 'none';\n",
              "\n",
              "      async function convertToInteractive(key) {\n",
              "        const element = document.querySelector('#df-d5953b9f-ad8f-406b-9dfc-0295959830c3');\n",
              "        const dataTable =\n",
              "          await google.colab.kernel.invokeFunction('convertToInteractive',\n",
              "                                                    [key], {});\n",
              "        if (!dataTable) return;\n",
              "\n",
              "        const docLinkHtml = 'Like what you see? Visit the ' +\n",
              "          '<a target=\"_blank\" href=https://colab.research.google.com/notebooks/data_table.ipynb>data table notebook</a>'\n",
              "          + ' to learn more about interactive tables.';\n",
              "        element.innerHTML = '';\n",
              "        dataTable['output_type'] = 'display_data';\n",
              "        await google.colab.output.renderOutput(dataTable, element);\n",
              "        const docLink = document.createElement('div');\n",
              "        docLink.innerHTML = docLinkHtml;\n",
              "        element.appendChild(docLink);\n",
              "      }\n",
              "    </script>\n",
              "  </div>\n",
              "\n",
              "\n",
              "<div id=\"df-3b6c072f-b054-4434-b4c1-f40035fb8f96\">\n",
              "  <button class=\"colab-df-quickchart\" onclick=\"quickchart('df-3b6c072f-b054-4434-b4c1-f40035fb8f96')\"\n",
              "            title=\"Suggest charts\"\n",
              "            style=\"display:none;\">\n",
              "\n",
              "<svg xmlns=\"http://www.w3.org/2000/svg\" height=\"24px\"viewBox=\"0 0 24 24\"\n",
              "     width=\"24px\">\n",
              "    <g>\n",
              "        <path d=\"M19 3H5c-1.1 0-2 .9-2 2v14c0 1.1.9 2 2 2h14c1.1 0 2-.9 2-2V5c0-1.1-.9-2-2-2zM9 17H7v-7h2v7zm4 0h-2V7h2v10zm4 0h-2v-4h2v4z\"/>\n",
              "    </g>\n",
              "</svg>\n",
              "  </button>\n",
              "\n",
              "<style>\n",
              "  .colab-df-quickchart {\n",
              "      --bg-color: #E8F0FE;\n",
              "      --fill-color: #1967D2;\n",
              "      --hover-bg-color: #E2EBFA;\n",
              "      --hover-fill-color: #174EA6;\n",
              "      --disabled-fill-color: #AAA;\n",
              "      --disabled-bg-color: #DDD;\n",
              "  }\n",
              "\n",
              "  [theme=dark] .colab-df-quickchart {\n",
              "      --bg-color: #3B4455;\n",
              "      --fill-color: #D2E3FC;\n",
              "      --hover-bg-color: #434B5C;\n",
              "      --hover-fill-color: #FFFFFF;\n",
              "      --disabled-bg-color: #3B4455;\n",
              "      --disabled-fill-color: #666;\n",
              "  }\n",
              "\n",
              "  .colab-df-quickchart {\n",
              "    background-color: var(--bg-color);\n",
              "    border: none;\n",
              "    border-radius: 50%;\n",
              "    cursor: pointer;\n",
              "    display: none;\n",
              "    fill: var(--fill-color);\n",
              "    height: 32px;\n",
              "    padding: 0;\n",
              "    width: 32px;\n",
              "  }\n",
              "\n",
              "  .colab-df-quickchart:hover {\n",
              "    background-color: var(--hover-bg-color);\n",
              "    box-shadow: 0 1px 2px rgba(60, 64, 67, 0.3), 0 1px 3px 1px rgba(60, 64, 67, 0.15);\n",
              "    fill: var(--button-hover-fill-color);\n",
              "  }\n",
              "\n",
              "  .colab-df-quickchart-complete:disabled,\n",
              "  .colab-df-quickchart-complete:disabled:hover {\n",
              "    background-color: var(--disabled-bg-color);\n",
              "    fill: var(--disabled-fill-color);\n",
              "    box-shadow: none;\n",
              "  }\n",
              "\n",
              "  .colab-df-spinner {\n",
              "    border: 2px solid var(--fill-color);\n",
              "    border-color: transparent;\n",
              "    border-bottom-color: var(--fill-color);\n",
              "    animation:\n",
              "      spin 1s steps(1) infinite;\n",
              "  }\n",
              "\n",
              "  @keyframes spin {\n",
              "    0% {\n",
              "      border-color: transparent;\n",
              "      border-bottom-color: var(--fill-color);\n",
              "      border-left-color: var(--fill-color);\n",
              "    }\n",
              "    20% {\n",
              "      border-color: transparent;\n",
              "      border-left-color: var(--fill-color);\n",
              "      border-top-color: var(--fill-color);\n",
              "    }\n",
              "    30% {\n",
              "      border-color: transparent;\n",
              "      border-left-color: var(--fill-color);\n",
              "      border-top-color: var(--fill-color);\n",
              "      border-right-color: var(--fill-color);\n",
              "    }\n",
              "    40% {\n",
              "      border-color: transparent;\n",
              "      border-right-color: var(--fill-color);\n",
              "      border-top-color: var(--fill-color);\n",
              "    }\n",
              "    60% {\n",
              "      border-color: transparent;\n",
              "      border-right-color: var(--fill-color);\n",
              "    }\n",
              "    80% {\n",
              "      border-color: transparent;\n",
              "      border-right-color: var(--fill-color);\n",
              "      border-bottom-color: var(--fill-color);\n",
              "    }\n",
              "    90% {\n",
              "      border-color: transparent;\n",
              "      border-bottom-color: var(--fill-color);\n",
              "    }\n",
              "  }\n",
              "</style>\n",
              "\n",
              "  <script>\n",
              "    async function quickchart(key) {\n",
              "      const quickchartButtonEl =\n",
              "        document.querySelector('#' + key + ' button');\n",
              "      quickchartButtonEl.disabled = true;  // To prevent multiple clicks.\n",
              "      quickchartButtonEl.classList.add('colab-df-spinner');\n",
              "      try {\n",
              "        const charts = await google.colab.kernel.invokeFunction(\n",
              "            'suggestCharts', [key], {});\n",
              "      } catch (error) {\n",
              "        console.error('Error during call to suggestCharts:', error);\n",
              "      }\n",
              "      quickchartButtonEl.classList.remove('colab-df-spinner');\n",
              "      quickchartButtonEl.classList.add('colab-df-quickchart-complete');\n",
              "    }\n",
              "    (() => {\n",
              "      let quickchartButtonEl =\n",
              "        document.querySelector('#df-3b6c072f-b054-4434-b4c1-f40035fb8f96 button');\n",
              "      quickchartButtonEl.style.display =\n",
              "        google.colab.kernel.accessAllowed ? 'block' : 'none';\n",
              "    })();\n",
              "  </script>\n",
              "</div>\n",
              "    </div>\n",
              "  </div>\n"
            ]
          },
          "metadata": {},
          "execution_count": 15
        }
      ]
    },
    {
      "cell_type": "code",
      "source": [
        "OnlineRetail.describe(include='object') #Quick Descriptive Summary (Object Data Type based)"
      ],
      "metadata": {
        "colab": {
          "base_uri": "https://localhost:8080/",
          "height": 175
        },
        "id": "rWD6hfGVSUgV",
        "outputId": "7a4763ee-83f2-4ed8-ffa0-cd40555012df"
      },
      "execution_count": 16,
      "outputs": [
        {
          "output_type": "execute_result",
          "data": {
            "text/plain": [
              "       PreferredLoginDevice PreferredPaymentMode Gender    PreferedOrderCat  \\\n",
              "count                 16890                16290  16890               16890   \n",
              "unique                    4                    7      4                   6   \n",
              "top            Mobile Phone           Debit Card   Male  Laptop & Accessory   \n",
              "freq                   8205                 6687   9561                6150   \n",
              "\n",
              "       MaritalStatus  \n",
              "count          16290  \n",
              "unique             3  \n",
              "top          Married  \n",
              "freq            8637  "
            ],
            "text/html": [
              "\n",
              "  <div id=\"df-2beff4cf-5e28-45df-b38f-924b0c9da7ee\" class=\"colab-df-container\">\n",
              "    <div>\n",
              "<style scoped>\n",
              "    .dataframe tbody tr th:only-of-type {\n",
              "        vertical-align: middle;\n",
              "    }\n",
              "\n",
              "    .dataframe tbody tr th {\n",
              "        vertical-align: top;\n",
              "    }\n",
              "\n",
              "    .dataframe thead th {\n",
              "        text-align: right;\n",
              "    }\n",
              "</style>\n",
              "<table border=\"1\" class=\"dataframe\">\n",
              "  <thead>\n",
              "    <tr style=\"text-align: right;\">\n",
              "      <th></th>\n",
              "      <th>PreferredLoginDevice</th>\n",
              "      <th>PreferredPaymentMode</th>\n",
              "      <th>Gender</th>\n",
              "      <th>PreferedOrderCat</th>\n",
              "      <th>MaritalStatus</th>\n",
              "    </tr>\n",
              "  </thead>\n",
              "  <tbody>\n",
              "    <tr>\n",
              "      <th>count</th>\n",
              "      <td>16890</td>\n",
              "      <td>16290</td>\n",
              "      <td>16890</td>\n",
              "      <td>16890</td>\n",
              "      <td>16290</td>\n",
              "    </tr>\n",
              "    <tr>\n",
              "      <th>unique</th>\n",
              "      <td>4</td>\n",
              "      <td>7</td>\n",
              "      <td>4</td>\n",
              "      <td>6</td>\n",
              "      <td>3</td>\n",
              "    </tr>\n",
              "    <tr>\n",
              "      <th>top</th>\n",
              "      <td>Mobile Phone</td>\n",
              "      <td>Debit Card</td>\n",
              "      <td>Male</td>\n",
              "      <td>Laptop &amp; Accessory</td>\n",
              "      <td>Married</td>\n",
              "    </tr>\n",
              "    <tr>\n",
              "      <th>freq</th>\n",
              "      <td>8205</td>\n",
              "      <td>6687</td>\n",
              "      <td>9561</td>\n",
              "      <td>6150</td>\n",
              "      <td>8637</td>\n",
              "    </tr>\n",
              "  </tbody>\n",
              "</table>\n",
              "</div>\n",
              "    <div class=\"colab-df-buttons\">\n",
              "\n",
              "  <div class=\"colab-df-container\">\n",
              "    <button class=\"colab-df-convert\" onclick=\"convertToInteractive('df-2beff4cf-5e28-45df-b38f-924b0c9da7ee')\"\n",
              "            title=\"Convert this dataframe to an interactive table.\"\n",
              "            style=\"display:none;\">\n",
              "\n",
              "  <svg xmlns=\"http://www.w3.org/2000/svg\" height=\"24px\" viewBox=\"0 -960 960 960\">\n",
              "    <path d=\"M120-120v-720h720v720H120Zm60-500h600v-160H180v160Zm220 220h160v-160H400v160Zm0 220h160v-160H400v160ZM180-400h160v-160H180v160Zm440 0h160v-160H620v160ZM180-180h160v-160H180v160Zm440 0h160v-160H620v160Z\"/>\n",
              "  </svg>\n",
              "    </button>\n",
              "\n",
              "  <style>\n",
              "    .colab-df-container {\n",
              "      display:flex;\n",
              "      gap: 12px;\n",
              "    }\n",
              "\n",
              "    .colab-df-convert {\n",
              "      background-color: #E8F0FE;\n",
              "      border: none;\n",
              "      border-radius: 50%;\n",
              "      cursor: pointer;\n",
              "      display: none;\n",
              "      fill: #1967D2;\n",
              "      height: 32px;\n",
              "      padding: 0 0 0 0;\n",
              "      width: 32px;\n",
              "    }\n",
              "\n",
              "    .colab-df-convert:hover {\n",
              "      background-color: #E2EBFA;\n",
              "      box-shadow: 0px 1px 2px rgba(60, 64, 67, 0.3), 0px 1px 3px 1px rgba(60, 64, 67, 0.15);\n",
              "      fill: #174EA6;\n",
              "    }\n",
              "\n",
              "    .colab-df-buttons div {\n",
              "      margin-bottom: 4px;\n",
              "    }\n",
              "\n",
              "    [theme=dark] .colab-df-convert {\n",
              "      background-color: #3B4455;\n",
              "      fill: #D2E3FC;\n",
              "    }\n",
              "\n",
              "    [theme=dark] .colab-df-convert:hover {\n",
              "      background-color: #434B5C;\n",
              "      box-shadow: 0px 1px 3px 1px rgba(0, 0, 0, 0.15);\n",
              "      filter: drop-shadow(0px 1px 2px rgba(0, 0, 0, 0.3));\n",
              "      fill: #FFFFFF;\n",
              "    }\n",
              "  </style>\n",
              "\n",
              "    <script>\n",
              "      const buttonEl =\n",
              "        document.querySelector('#df-2beff4cf-5e28-45df-b38f-924b0c9da7ee button.colab-df-convert');\n",
              "      buttonEl.style.display =\n",
              "        google.colab.kernel.accessAllowed ? 'block' : 'none';\n",
              "\n",
              "      async function convertToInteractive(key) {\n",
              "        const element = document.querySelector('#df-2beff4cf-5e28-45df-b38f-924b0c9da7ee');\n",
              "        const dataTable =\n",
              "          await google.colab.kernel.invokeFunction('convertToInteractive',\n",
              "                                                    [key], {});\n",
              "        if (!dataTable) return;\n",
              "\n",
              "        const docLinkHtml = 'Like what you see? Visit the ' +\n",
              "          '<a target=\"_blank\" href=https://colab.research.google.com/notebooks/data_table.ipynb>data table notebook</a>'\n",
              "          + ' to learn more about interactive tables.';\n",
              "        element.innerHTML = '';\n",
              "        dataTable['output_type'] = 'display_data';\n",
              "        await google.colab.output.renderOutput(dataTable, element);\n",
              "        const docLink = document.createElement('div');\n",
              "        docLink.innerHTML = docLinkHtml;\n",
              "        element.appendChild(docLink);\n",
              "      }\n",
              "    </script>\n",
              "  </div>\n",
              "\n",
              "\n",
              "<div id=\"df-3d1d9325-65ee-40ca-a5a9-ce3b84524330\">\n",
              "  <button class=\"colab-df-quickchart\" onclick=\"quickchart('df-3d1d9325-65ee-40ca-a5a9-ce3b84524330')\"\n",
              "            title=\"Suggest charts\"\n",
              "            style=\"display:none;\">\n",
              "\n",
              "<svg xmlns=\"http://www.w3.org/2000/svg\" height=\"24px\"viewBox=\"0 0 24 24\"\n",
              "     width=\"24px\">\n",
              "    <g>\n",
              "        <path d=\"M19 3H5c-1.1 0-2 .9-2 2v14c0 1.1.9 2 2 2h14c1.1 0 2-.9 2-2V5c0-1.1-.9-2-2-2zM9 17H7v-7h2v7zm4 0h-2V7h2v10zm4 0h-2v-4h2v4z\"/>\n",
              "    </g>\n",
              "</svg>\n",
              "  </button>\n",
              "\n",
              "<style>\n",
              "  .colab-df-quickchart {\n",
              "      --bg-color: #E8F0FE;\n",
              "      --fill-color: #1967D2;\n",
              "      --hover-bg-color: #E2EBFA;\n",
              "      --hover-fill-color: #174EA6;\n",
              "      --disabled-fill-color: #AAA;\n",
              "      --disabled-bg-color: #DDD;\n",
              "  }\n",
              "\n",
              "  [theme=dark] .colab-df-quickchart {\n",
              "      --bg-color: #3B4455;\n",
              "      --fill-color: #D2E3FC;\n",
              "      --hover-bg-color: #434B5C;\n",
              "      --hover-fill-color: #FFFFFF;\n",
              "      --disabled-bg-color: #3B4455;\n",
              "      --disabled-fill-color: #666;\n",
              "  }\n",
              "\n",
              "  .colab-df-quickchart {\n",
              "    background-color: var(--bg-color);\n",
              "    border: none;\n",
              "    border-radius: 50%;\n",
              "    cursor: pointer;\n",
              "    display: none;\n",
              "    fill: var(--fill-color);\n",
              "    height: 32px;\n",
              "    padding: 0;\n",
              "    width: 32px;\n",
              "  }\n",
              "\n",
              "  .colab-df-quickchart:hover {\n",
              "    background-color: var(--hover-bg-color);\n",
              "    box-shadow: 0 1px 2px rgba(60, 64, 67, 0.3), 0 1px 3px 1px rgba(60, 64, 67, 0.15);\n",
              "    fill: var(--button-hover-fill-color);\n",
              "  }\n",
              "\n",
              "  .colab-df-quickchart-complete:disabled,\n",
              "  .colab-df-quickchart-complete:disabled:hover {\n",
              "    background-color: var(--disabled-bg-color);\n",
              "    fill: var(--disabled-fill-color);\n",
              "    box-shadow: none;\n",
              "  }\n",
              "\n",
              "  .colab-df-spinner {\n",
              "    border: 2px solid var(--fill-color);\n",
              "    border-color: transparent;\n",
              "    border-bottom-color: var(--fill-color);\n",
              "    animation:\n",
              "      spin 1s steps(1) infinite;\n",
              "  }\n",
              "\n",
              "  @keyframes spin {\n",
              "    0% {\n",
              "      border-color: transparent;\n",
              "      border-bottom-color: var(--fill-color);\n",
              "      border-left-color: var(--fill-color);\n",
              "    }\n",
              "    20% {\n",
              "      border-color: transparent;\n",
              "      border-left-color: var(--fill-color);\n",
              "      border-top-color: var(--fill-color);\n",
              "    }\n",
              "    30% {\n",
              "      border-color: transparent;\n",
              "      border-left-color: var(--fill-color);\n",
              "      border-top-color: var(--fill-color);\n",
              "      border-right-color: var(--fill-color);\n",
              "    }\n",
              "    40% {\n",
              "      border-color: transparent;\n",
              "      border-right-color: var(--fill-color);\n",
              "      border-top-color: var(--fill-color);\n",
              "    }\n",
              "    60% {\n",
              "      border-color: transparent;\n",
              "      border-right-color: var(--fill-color);\n",
              "    }\n",
              "    80% {\n",
              "      border-color: transparent;\n",
              "      border-right-color: var(--fill-color);\n",
              "      border-bottom-color: var(--fill-color);\n",
              "    }\n",
              "    90% {\n",
              "      border-color: transparent;\n",
              "      border-bottom-color: var(--fill-color);\n",
              "    }\n",
              "  }\n",
              "</style>\n",
              "\n",
              "  <script>\n",
              "    async function quickchart(key) {\n",
              "      const quickchartButtonEl =\n",
              "        document.querySelector('#' + key + ' button');\n",
              "      quickchartButtonEl.disabled = true;  // To prevent multiple clicks.\n",
              "      quickchartButtonEl.classList.add('colab-df-spinner');\n",
              "      try {\n",
              "        const charts = await google.colab.kernel.invokeFunction(\n",
              "            'suggestCharts', [key], {});\n",
              "      } catch (error) {\n",
              "        console.error('Error during call to suggestCharts:', error);\n",
              "      }\n",
              "      quickchartButtonEl.classList.remove('colab-df-spinner');\n",
              "      quickchartButtonEl.classList.add('colab-df-quickchart-complete');\n",
              "    }\n",
              "    (() => {\n",
              "      let quickchartButtonEl =\n",
              "        document.querySelector('#df-3d1d9325-65ee-40ca-a5a9-ce3b84524330 button');\n",
              "      quickchartButtonEl.style.display =\n",
              "        google.colab.kernel.accessAllowed ? 'block' : 'none';\n",
              "    })();\n",
              "  </script>\n",
              "</div>\n",
              "    </div>\n",
              "  </div>\n"
            ]
          },
          "metadata": {},
          "execution_count": 16
        }
      ]
    },
    {
      "cell_type": "markdown",
      "source": [
        "Data cleansing"
      ],
      "metadata": {
        "id": "RQxwuz56SXz2"
      }
    },
    {
      "cell_type": "code",
      "source": [
        "#Handling duplicate values\n",
        "OnlineRetail.drop_duplicates(keep='first', inplace = True) #Removing duplicates"
      ],
      "metadata": {
        "id": "5kXZLmaeSdjb"
      },
      "execution_count": 17,
      "outputs": []
    },
    {
      "cell_type": "code",
      "source": [
        "OnlineRetail.duplicated().sum() #Validating the changes"
      ],
      "metadata": {
        "colab": {
          "base_uri": "https://localhost:8080/"
        },
        "id": "cIQA0Qv8Skbq",
        "outputId": "5aa438f1-90d0-4e47-d672-e8f371356795"
      },
      "execution_count": 18,
      "outputs": [
        {
          "output_type": "execute_result",
          "data": {
            "text/plain": [
              "0"
            ]
          },
          "metadata": {},
          "execution_count": 18
        }
      ]
    },
    {
      "cell_type": "code",
      "source": [
        "OnlineRetail.shape #Revalidating the shape of the dataset"
      ],
      "metadata": {
        "colab": {
          "base_uri": "https://localhost:8080/"
        },
        "id": "5SgPsuBZSke0",
        "outputId": "fb7680e7-da80-4c6b-c792-f433b7bcc6b1"
      },
      "execution_count": 19,
      "outputs": [
        {
          "output_type": "execute_result",
          "data": {
            "text/plain": [
              "(5630, 20)"
            ]
          },
          "metadata": {},
          "execution_count": 19
        }
      ]
    },
    {
      "cell_type": "markdown",
      "source": [
        "Handling / Figuring out outliers"
      ],
      "metadata": {
        "id": "4W0iV8RQSoRM"
      }
    },
    {
      "cell_type": "code",
      "source": [
        "#column: tenure\n",
        "OnlineRetail['Tenure'].sort_values(ascending=True).value_counts() #Figuring out if there are extreme values"
      ],
      "metadata": {
        "colab": {
          "base_uri": "https://localhost:8080/"
        },
        "id": "c5ofiI_2Sri2",
        "outputId": "0a2d2163-fcfe-4815-c255-0e61385212fc"
      },
      "execution_count": 20,
      "outputs": [
        {
          "output_type": "execute_result",
          "data": {
            "text/plain": [
              " 1.0        676\n",
              " 0.0        493\n",
              " 8.0        257\n",
              " 9.0        240\n",
              " 7.0        216\n",
              " 10.0       211\n",
              " 5.0        201\n",
              " 4.0        200\n",
              " 3.0        192\n",
              " 11.0       189\n",
              " 6.0        182\n",
              " 13.0       177\n",
              " 12.0       174\n",
              " 14.0       174\n",
              " 2.0        166\n",
              " 15.0       158\n",
              " 16.0       148\n",
              " 19.0       137\n",
              " 18.0       120\n",
              " 20.0       107\n",
              " 17.0       105\n",
              "-10000.0    100\n",
              " 23.0        89\n",
              " 21.0        83\n",
              " 22.0        76\n",
              " 24.0        75\n",
              " 28.0        70\n",
              " 30.0        66\n",
              " 27.0        64\n",
              " 26.0        60\n",
              " 25.0        57\n",
              " 29.0        54\n",
              " 31.0        48\n",
              " 50.0         1\n",
              " 51.0         1\n",
              " 60.0         1\n",
              " 61.0         1\n",
              "Name: Tenure, dtype: int64"
            ]
          },
          "metadata": {},
          "execution_count": 20
        }
      ]
    },
    {
      "cell_type": "code",
      "source": [
        "#Tenure column has extrem unlogical value below 0 and outliers starting from a value of 50.0+\n",
        "OnlineRetail = OnlineRetail[OnlineRetail['Tenure'] < 50.0] #Excluding values above 50.0"
      ],
      "metadata": {
        "id": "w7W2eQjiSyLI"
      },
      "execution_count": 21,
      "outputs": []
    },
    {
      "cell_type": "code",
      "source": [
        "OnlineRetail['Tenure'].replace(-10000, np.NaN, inplace=True) #Replacing -10000 with Null value"
      ],
      "metadata": {
        "colab": {
          "base_uri": "https://localhost:8080/"
        },
        "id": "dPqrjO7VS11K",
        "outputId": "4fd6f455-622c-4866-e674-1235484f5ea9"
      },
      "execution_count": 22,
      "outputs": [
        {
          "output_type": "stream",
          "name": "stderr",
          "text": [
            "<ipython-input-22-14d801e34ad4>:1: SettingWithCopyWarning: \n",
            "A value is trying to be set on a copy of a slice from a DataFrame\n",
            "\n",
            "See the caveats in the documentation: https://pandas.pydata.org/pandas-docs/stable/user_guide/indexing.html#returning-a-view-versus-a-copy\n",
            "  OnlineRetail['Tenure'].replace(-10000, np.NaN, inplace=True) #Replacing -10000 with Null value\n"
          ]
        }
      ]
    },
    {
      "cell_type": "code",
      "source": [
        "OnlineRetail['Tenure'].unique() #Validating the changes"
      ],
      "metadata": {
        "colab": {
          "base_uri": "https://localhost:8080/"
        },
        "id": "60YB5bsWS4gt",
        "outputId": "e8aea90d-96c1-4e69-d1fa-d444386ad06b"
      },
      "execution_count": 23,
      "outputs": [
        {
          "output_type": "execute_result",
          "data": {
            "text/plain": [
              "array([ 4.,  0., nan, 11.,  9., 19., 20., 14.,  8., 18.,  5.,  2., 30.,\n",
              "       13.,  1., 23.,  3., 29.,  6., 26., 28.,  7., 24., 25., 10., 15.,\n",
              "       22., 27., 16., 12., 21., 17., 31.])"
            ]
          },
          "metadata": {},
          "execution_count": 23
        }
      ]
    },
    {
      "cell_type": "code",
      "source": [
        "#Further Tenure column outliers configuration\n",
        "plt.figure(figsize=(15,7))\n",
        "Tenure_ax = sns.boxplot(data = OnlineRetail, x = OnlineRetail['Tenure'])\n",
        "plt.tick_params(axis='x', colors='white')\n",
        "plt.xlabel('Tenure Values', color='white')\n",
        "Tenure_ax.set_title('Finding outliers in Tenure column',color= 'white')\n",
        "plt.show()"
      ],
      "metadata": {
        "colab": {
          "base_uri": "https://localhost:8080/",
          "height": 641
        },
        "id": "q0JHtkYdS4vH",
        "outputId": "c6fc486b-e94e-43e8-9bfe-581efc24a017"
      },
      "execution_count": 24,
      "outputs": [
        {
          "output_type": "display_data",
          "data": {
            "text/plain": [
              "<Figure size 1500x700 with 1 Axes>"
            ],
            "image/png": "[encoded data removed]"
          },
          "metadata": {}
        }
      ]
    },
    {
      "cell_type": "code",
      "source": [
        "#column: WarehouseToHome\n",
        "#Detecting Outliers WarehouseToHome Column\n",
        "plt.figure(figsize=(15,7))\n",
        "WarehouseToHome_ax = sns.boxplot(data = OnlineRetail, x = OnlineRetail['WarehouseToHome'])\n",
        "plt.tick_params(axis='x', colors='white')\n",
        "plt.xlabel('WarehouseToHome Values', color='white')\n",
        "WarehouseToHome_ax.set_title('Finding outliers in WarehouseToHome column',color= 'white')\n",
        "plt.show()"
      ],
      "metadata": {
        "colab": {
          "base_uri": "https://localhost:8080/",
          "height": 641
        },
        "id": "M5dLsWgjS9x2",
        "outputId": "1360baf9-387e-4577-cee0-b3153742e0fb"
      },
      "execution_count": 25,
      "outputs": [
        {
          "output_type": "display_data",
          "data": {
            "text/plain": [
              "<Figure size 1500x700 with 1 Axes>"
            ],
            "image/png": "[encoded data removed]"
          },
          "metadata": {}
        }
      ]
    },
    {
      "cell_type": "code",
      "source": [
        "OnlineRetail['WarehouseToHome'].value_counts()"
      ],
      "metadata": {
        "colab": {
          "base_uri": "https://localhost:8080/"
        },
        "id": "TH6hZtb2TKU7",
        "outputId": "e16ef1e8-be84-4668-d9e2-066bca0a501e"
      },
      "execution_count": 26,
      "outputs": [
        {
          "output_type": "execute_result",
          "data": {
            "text/plain": [
              "9.0      519\n",
              "8.0      404\n",
              "7.0      358\n",
              "16.0     288\n",
              "14.0     274\n",
              "10.0     259\n",
              "15.0     258\n",
              "6.0      247\n",
              "13.0     229\n",
              "11.0     216\n",
              "17.0     207\n",
              "12.0     200\n",
              "22.0      96\n",
              "31.0      95\n",
              "32.0      92\n",
              "35.0      91\n",
              "18.0      86\n",
              "30.0      85\n",
              "25.0      84\n",
              "23.0      83\n",
              "24.0      82\n",
              "26.0      78\n",
              "21.0      78\n",
              "29.0      73\n",
              "27.0      72\n",
              "20.0      67\n",
              "19.0      65\n",
              "33.0      64\n",
              "34.0      61\n",
              "28.0      60\n",
              "36.0      48\n",
              "5.0        8\n",
              "126.0      1\n",
              "127.0      1\n",
              "Name: WarehouseToHome, dtype: int64"
            ]
          },
          "metadata": {},
          "execution_count": 26
        }
      ]
    },
    {
      "cell_type": "code",
      "source": [
        "#Column WarehouseToHome has outliers on values 126.0 and 127.0 and Potentially 5.0\n",
        "OnlineRetail = OnlineRetail[OnlineRetail['WarehouseToHome'] < 126.0]"
      ],
      "metadata": {
        "id": "biXdH2t_TMwN"
      },
      "execution_count": 27,
      "outputs": []
    },
    {
      "cell_type": "code",
      "source": [
        "#Validating the changes\n",
        "plt.figure(figsize=(15,7))\n",
        "WarehouseToHome_ax = sns.boxplot(data = OnlineRetail, x = OnlineRetail['WarehouseToHome'])\n",
        "plt.tick_params(axis='x', colors='white')\n",
        "plt.xlabel('WarehouseToHome Values', color='white')\n",
        "WarehouseToHome_ax.set_title('Finding outliers in WarehouseToHome column',color= 'white')\n",
        "plt.show()"
      ],
      "metadata": {
        "colab": {
          "base_uri": "https://localhost:8080/",
          "height": 641
        },
        "id": "fkvLTtRATPPF",
        "outputId": "6dc24ba7-11ab-40ac-a23b-af8a8c0edd7f"
      },
      "execution_count": 28,
      "outputs": [
        {
          "output_type": "display_data",
          "data": {
            "text/plain": [
              "<Figure size 1500x700 with 1 Axes>"
            ],
            "image/png": "[encoded data removed]"
          },
          "metadata": {}
        }
      ]
    },
    {
      "cell_type": "code",
      "source": [
        "#column: SatisfactionScore\n",
        "OnlineRetail['SatisfactionScore'].value_counts() #Figuring out if there's extreme values"
      ],
      "metadata": {
        "colab": {
          "base_uri": "https://localhost:8080/"
        },
        "id": "CdNDD8IATQ6h",
        "outputId": "9c6442b9-0ac6-426e-cf01-718d134ed2e8"
      },
      "execution_count": 29,
      "outputs": [
        {
          "output_type": "execute_result",
          "data": {
            "text/plain": [
              "3         1458\n",
              "1         1009\n",
              "5          949\n",
              "4          912\n",
              "2          510\n",
              "589314      89\n",
              "Name: SatisfactionScore, dtype: int64"
            ]
          },
          "metadata": {},
          "execution_count": 29
        }
      ]
    },
    {
      "cell_type": "code",
      "source": [
        "#Let's figure out the correlation between Satisfaction Score and other columns to figure out how to replace those values accurately\n",
        "plt.figure(figsize=(25,13))\n",
        "sns.heatmap(data = OnlineRetail.corr(), annot=True)\n",
        "plt.tick_params(axis='x', colors='white')\n",
        "plt.tick_params(axis='y', colors='white')"
      ],
      "metadata": {
        "colab": {
          "base_uri": "https://localhost:8080/",
          "height": 962
        },
        "id": "6zBwxHZJTYcu",
        "outputId": "3f23bbfa-b1c6-4792-d278-4a00f669c0ca"
      },
      "execution_count": 30,
      "outputs": [
        {
          "output_type": "stream",
          "name": "stderr",
          "text": [
            "<ipython-input-30-a072e39965f7>:3: FutureWarning: The default value of numeric_only in DataFrame.corr is deprecated. In a future version, it will default to False. Select only valid columns or specify the value of numeric_only to silence this warning.\n",
            "  sns.heatmap(data = OnlineRetail.corr(), annot=True)\n"
          ]
        },
        {
          "output_type": "display_data",
          "data": {
            "text/plain": [
              "<Figure size 2500x1300 with 2 Axes>"
            ],
            "image/png": "[encoded data removed]"
          },
          "metadata": {}
        }
      ]
    },
    {
      "cell_type": "code",
      "source": [
        "#Since Satisfaction Score has a correlation with Churn Column, Let's group the Satisfaction Score of 589314.0 with the churn rate to figure out how to handle the value accurately\n",
        "Satisfaction_Handling = OnlineRetail[['Churn','SatisfactionScore']]\n",
        "Satisfaction_Handling = Satisfaction_Handling[Satisfaction_Handling['SatisfactionScore'] == 589314.0]\n",
        "Grouped = Satisfaction_Handling.groupby('Churn')['SatisfactionScore'].count()\n",
        "Grouped"
      ],
      "metadata": {
        "colab": {
          "base_uri": "https://localhost:8080/"
        },
        "id": "xbtlZO1dTc1l",
        "outputId": "6f7ed883-78da-4246-fdb9-7ccc142f9984"
      },
      "execution_count": 31,
      "outputs": [
        {
          "output_type": "execute_result",
          "data": {
            "text/plain": [
              "Churn\n",
              "0    66\n",
              "1    23\n",
              "Name: SatisfactionScore, dtype: int64"
            ]
          },
          "metadata": {},
          "execution_count": 31
        }
      ]
    },
    {
      "cell_type": "code",
      "source": [
        "#Figuring out the mean of SatisfactionScore Column in each Churn Category (1,0)\n",
        "Sat_Mean = OnlineRetail[['Churn','SatisfactionScore']]\n",
        "Sat_Mean_1 = Sat_Mean[Sat_Mean['Churn'] == 1]\n",
        "Positive_Sat_Mean = np.round(Sat_Mean_1['SatisfactionScore'].mean(), decimals=3)\n",
        "Sat_Mean_0 = Sat_Mean[Sat_Mean['Churn'] == 0]\n",
        "Negative_Sat_Mean = np.round(Sat_Mean_0['SatisfactionScore'].mean(), decimals=3)"
      ],
      "metadata": {
        "id": "GjQjHfN5TgAK"
      },
      "execution_count": 32,
      "outputs": []
    },
    {
      "cell_type": "code",
      "source": [
        "print(Positive_Sat_Mean)\n",
        "print(Negative_Sat_Mean)"
      ],
      "metadata": {
        "colab": {
          "base_uri": "https://localhost:8080/"
        },
        "id": "RwZI0VWtTkxe",
        "outputId": "818fa9c6-9d77-4232-f7c8-0d66036a9158"
      },
      "execution_count": 33,
      "outputs": [
        {
          "output_type": "stream",
          "name": "stdout",
          "text": [
            "18027.505\n",
            "9319.056\n"
          ]
        }
      ]
    },
    {
      "cell_type": "code",
      "source": [
        "#Finally, The best solution is to remove the 589314 values\n",
        "OnlineRetail = OnlineRetail[OnlineRetail['SatisfactionScore'] != 589314]"
      ],
      "metadata": {
        "id": "NJ-vWSivToAI"
      },
      "execution_count": 34,
      "outputs": []
    },
    {
      "cell_type": "code",
      "source": [
        "OnlineRetail['SatisfactionScore'].value_counts() #Validating the changes"
      ],
      "metadata": {
        "colab": {
          "base_uri": "https://localhost:8080/"
        },
        "id": "COiFm7PITo0y",
        "outputId": "2373c460-1913-4b60-e557-c0ab84a809ef"
      },
      "execution_count": 35,
      "outputs": [
        {
          "output_type": "execute_result",
          "data": {
            "text/plain": [
              "3    1458\n",
              "1    1009\n",
              "5     949\n",
              "4     912\n",
              "2     510\n",
              "Name: SatisfactionScore, dtype: int64"
            ]
          },
          "metadata": {},
          "execution_count": 35
        }
      ]
    },
    {
      "cell_type": "code",
      "source": [
        "#column: NumberOfAddress\n",
        "OnlineRetail['NumberOfAddress'].value_counts() #Figuring out if there are extreme values"
      ],
      "metadata": {
        "colab": {
          "base_uri": "https://localhost:8080/"
        },
        "id": "Tgjcamx1Trln",
        "outputId": "9b932be9-07ab-4a8e-d9dd-5d2f164621f5"
      },
      "execution_count": 36,
      "outputs": [
        {
          "output_type": "execute_result",
          "data": {
            "text/plain": [
              "3     1179\n",
              "2     1056\n",
              "4      520\n",
              "5      500\n",
              "6      347\n",
              "1      292\n",
              "8      256\n",
              "9      211\n",
              "7      209\n",
              "10     178\n",
              "11      87\n",
              "21       1\n",
              "20       1\n",
              "22       1\n",
              "Name: NumberOfAddress, dtype: int64"
            ]
          },
          "metadata": {},
          "execution_count": 36
        }
      ]
    },
    {
      "cell_type": "code",
      "source": [
        "#Detecting Outliers NumberOfAddress Column\n",
        "plt.figure(figsize=(15,7))\n",
        "NumberOfAddress_ax = sns.boxplot(data = OnlineRetail, x = OnlineRetail['NumberOfAddress'])\n",
        "plt.tick_params(axis='x', colors='white')\n",
        "plt.xlabel('NumberOfAddress Values', color='white')\n",
        "NumberOfAddress_ax.set_title('Finding outliers in NumberOfAddress column',color= 'white')\n",
        "plt.show()"
      ],
      "metadata": {
        "colab": {
          "base_uri": "https://localhost:8080/",
          "height": 641
        },
        "id": "W8dq-mHOTxu4",
        "outputId": "ebeea960-7aed-41dc-aa69-3f91c2e599ec"
      },
      "execution_count": 37,
      "outputs": [
        {
          "output_type": "display_data",
          "data": {
            "text/plain": [
              "<Figure size 1500x700 with 1 Axes>"
            ],
            "image/png": "[encoded data removed]"
          },
          "metadata": {}
        }
      ]
    },
    {
      "cell_type": "code",
      "source": [
        "#Handling Extreme Values\n",
        "OnlineRetail = OnlineRetail[OnlineRetail['NumberOfAddress'] < 20]"
      ],
      "metadata": {
        "id": "s9z3AzemTzwf"
      },
      "execution_count": 38,
      "outputs": []
    },
    {
      "cell_type": "code",
      "source": [
        "#Validating the changes\n",
        "plt.figure(figsize=(15,7))\n",
        "NumberOfAddress_ax = sns.boxplot(data = OnlineRetail, x = OnlineRetail['NumberOfAddress'])\n",
        "plt.tick_params(axis='x', colors='white')\n",
        "plt.xlabel('NumberOfAddress Values', color='white')\n",
        "NumberOfAddress_ax.set_title('Finding outliers in NumberOfAddress column',color= 'white')\n",
        "plt.show()"
      ],
      "metadata": {
        "colab": {
          "base_uri": "https://localhost:8080/",
          "height": 641
        },
        "id": "NXsq1YHvT1XA",
        "outputId": "22ce12f8-4a42-48ef-80e6-51e6de81dc6f"
      },
      "execution_count": 39,
      "outputs": [
        {
          "output_type": "display_data",
          "data": {
            "text/plain": [
              "<Figure size 1500x700 with 1 Axes>"
            ],
            "image/png": "[encoded data removed]"
          },
          "metadata": {}
        }
      ]
    },
    {
      "cell_type": "code",
      "source": [
        "#column: CouponUsed\n",
        "OnlineRetail['CouponUsed'].value_counts() #Figuring out if there are extreme values"
      ],
      "metadata": {
        "colab": {
          "base_uri": "https://localhost:8080/"
        },
        "id": "6kFRy_oiT2wZ",
        "outputId": "eed8b301-6a4a-4ee4-802f-6b29a82a3c37"
      },
      "execution_count": 40,
      "outputs": [
        {
          "output_type": "execute_result",
          "data": {
            "text/plain": [
              "1.0     1770\n",
              "2.0     1180\n",
              "0.0      755\n",
              "3.0      313\n",
              "4.0      179\n",
              "5.0      118\n",
              "6.0       99\n",
              "7.0       80\n",
              "8.0       39\n",
              "10.0      13\n",
              "9.0       12\n",
              "11.0      11\n",
              "12.0       9\n",
              "13.0       8\n",
              "14.0       4\n",
              "16.0       2\n",
              "Name: CouponUsed, dtype: int64"
            ]
          },
          "metadata": {},
          "execution_count": 40
        }
      ]
    },
    {
      "cell_type": "code",
      "source": [
        "#Detecting outliers in CouponUsed Column\n",
        "plt.figure(figsize=(15,7))\n",
        "CouponUsed_ax = sns.boxplot(data = OnlineRetail, x = OnlineRetail['CouponUsed'])\n",
        "plt.tick_params(axis='x', colors='white')\n",
        "plt.xlabel('CouponUsed Values', color='white')\n",
        "CouponUsed_ax.set_title('Finding outliers in CouponUsed column',color= 'white')\n",
        "plt.show()"
      ],
      "metadata": {
        "colab": {
          "base_uri": "https://localhost:8080/",
          "height": 641
        },
        "id": "6-Eh7lM1T-CW",
        "outputId": "e13012e5-4f6c-4761-f6db-6b58e8dabbc9"
      },
      "execution_count": 41,
      "outputs": [
        {
          "output_type": "display_data",
          "data": {
            "text/plain": [
              "<Figure size 1500x700 with 1 Axes>"
            ],
            "image/png": "[encoded data removed]"
          },
          "metadata": {}
        }
      ]
    },
    {
      "cell_type": "code",
      "source": [
        "#column: DaySinceLastOrder\n",
        "OnlineRetail['DaySinceLastOrder'].value_counts() #Figuring Out if there are extreme values."
      ],
      "metadata": {
        "colab": {
          "base_uri": "https://localhost:8080/"
        },
        "id": "c0ZIV_XdT_d9",
        "outputId": "645779a0-46b8-4175-a4c9-7f0182650ab0"
      },
      "execution_count": 42,
      "outputs": [
        {
          "output_type": "execute_result",
          "data": {
            "text/plain": [
              "3.0     809\n",
              "2.0     613\n",
              "1.0     542\n",
              "8.0     488\n",
              "7.0     383\n",
              "4.0     378\n",
              "0.0     296\n",
              "9.0     280\n",
              "5.0     212\n",
              "10.0    153\n",
              "6.0     100\n",
              "11.0     85\n",
              "12.0     67\n",
              "13.0     47\n",
              "14.0     33\n",
              "17.0     17\n",
              "15.0     16\n",
              "16.0     13\n",
              "18.0     10\n",
              "30.0      1\n",
              "46.0      1\n",
              "31.0      1\n",
              "Name: DaySinceLastOrder, dtype: int64"
            ]
          },
          "metadata": {},
          "execution_count": 42
        }
      ]
    },
    {
      "cell_type": "code",
      "source": [
        "#There are outliers yet since the column represents Recency of order then the outliers provide a relevant information and hence it is not problematic to leave them.\n",
        "plt.figure(figsize=(15,7))\n",
        "DaySinceLastOrder_ax = sns.boxplot(data = OnlineRetail, x = OnlineRetail['DaySinceLastOrder'])\n",
        "plt.tick_params(axis='x', colors='white')\n",
        "plt.xlabel('DaySinceLastOrder Values', color='white')\n",
        "DaySinceLastOrder_ax.set_title('Finding outliers in DaySinceLastOrder column',color= 'white')\n",
        "plt.show()"
      ],
      "metadata": {
        "colab": {
          "base_uri": "https://localhost:8080/",
          "height": 641
        },
        "id": "7khfAVBWUGYl",
        "outputId": "d525df5c-3008-4d09-b686-0bd6b90ad0ce"
      },
      "execution_count": 43,
      "outputs": [
        {
          "output_type": "display_data",
          "data": {
            "text/plain": [
              "<Figure size 1500x700 with 1 Axes>"
            ],
            "image/png": "[encoded data removed]"
          },
          "metadata": {}
        }
      ]
    },
    {
      "cell_type": "code",
      "source": [
        "#column: Churn\n",
        "OnlineRetail['Churn'].value_counts() #Figuring Out if there are extreme values."
      ],
      "metadata": {
        "colab": {
          "base_uri": "https://localhost:8080/"
        },
        "id": "y61U61VJUIdQ",
        "outputId": "34b888dd-586a-4a94-e02e-fb87e59b131e"
      },
      "execution_count": 44,
      "outputs": [
        {
          "output_type": "execute_result",
          "data": {
            "text/plain": [
              "0    4107\n",
              "1     728\n",
              "Name: Churn, dtype: int64"
            ]
          },
          "metadata": {},
          "execution_count": 44
        }
      ]
    },
    {
      "cell_type": "code",
      "source": [
        "#column: CityTier\n",
        "OnlineRetail['CityTier'].value_counts() #Figuring Out if there are extreme values."
      ],
      "metadata": {
        "colab": {
          "base_uri": "https://localhost:8080/"
        },
        "id": "Tei-FTcHUOnn",
        "outputId": "acd11142-076f-4720-850e-fe562fa51005"
      },
      "execution_count": 45,
      "outputs": [
        {
          "output_type": "execute_result",
          "data": {
            "text/plain": [
              "1    3086\n",
              "3    1546\n",
              "2     203\n",
              "Name: CityTier, dtype: int64"
            ]
          },
          "metadata": {},
          "execution_count": 45
        }
      ]
    },
    {
      "cell_type": "code",
      "source": [
        "#column: HoursSpendOnApp\n",
        "OnlineRetail['HourSpendOnApp'].value_counts() #Figuring Out if there are extreme values."
      ],
      "metadata": {
        "colab": {
          "base_uri": "https://localhost:8080/"
        },
        "id": "AYFVKJtIUUWl",
        "outputId": "44e42365-dd0d-4b5b-c940-19188e047644"
      },
      "execution_count": 46,
      "outputs": [
        {
          "output_type": "execute_result",
          "data": {
            "text/plain": [
              "3.0    2330\n",
              "2.0    1130\n",
              "4.0    1101\n",
              "1.0      32\n",
              "5.0       3\n",
              "0.0       2\n",
              "Name: HourSpendOnApp, dtype: int64"
            ]
          },
          "metadata": {},
          "execution_count": 46
        }
      ]
    },
    {
      "cell_type": "code",
      "source": [
        "#Visualizing outliers using BoxPlot\n",
        "plt.figure(figsize=(15,7))\n",
        "HoursSpendOnApp_ax = sns.boxplot(data = OnlineRetail, x = OnlineRetail['HourSpendOnApp'])\n",
        "plt.tick_params(axis='x', colors='white')\n",
        "plt.xlabel('HoursSpendOnApp Values', color='white')\n",
        "HoursSpendOnApp_ax.set_title('Finding outliers in HoursSpendOnApp column',color= 'white')\n",
        "plt.show()"
      ],
      "metadata": {
        "colab": {
          "base_uri": "https://localhost:8080/",
          "height": 641
        },
        "id": "vW9VC8x8Ucue",
        "outputId": "b16b07e6-181e-493d-c1a4-71bb993a6f15"
      },
      "execution_count": 47,
      "outputs": [
        {
          "output_type": "display_data",
          "data": {
            "text/plain": [
              "<Figure size 1500x700 with 1 Axes>"
            ],
            "image/png": "[encoded data removed]"
          },
          "metadata": {}
        }
      ]
    },
    {
      "cell_type": "code",
      "source": [
        "#Handling outliers\n",
        "OnlineRetail = OnlineRetail[OnlineRetail['HourSpendOnApp'] > 0.0]\n",
        "OnlineRetail = OnlineRetail[OnlineRetail['HourSpendOnApp'] < 5.0]"
      ],
      "metadata": {
        "id": "YbtjBs6mUfH9"
      },
      "execution_count": 48,
      "outputs": []
    },
    {
      "cell_type": "code",
      "source": [
        "#Validating the changes\n",
        "plt.figure(figsize=(15,7))\n",
        "HoursSpendOnApp_ax = sns.boxplot(data = OnlineRetail, x = OnlineRetail['HourSpendOnApp'])\n",
        "plt.tick_params(axis='x', colors='white')\n",
        "plt.xlabel('HoursSpendOnApp Values', color='white')\n",
        "HoursSpendOnApp_ax.set_title('Finding outliers in HoursSpendOnApp column',color= 'white')\n",
        "plt.show()"
      ],
      "metadata": {
        "colab": {
          "base_uri": "https://localhost:8080/",
          "height": 641
        },
        "id": "k9C3-smsUfLP",
        "outputId": "63474a88-4c1b-40da-86e3-2383352555a9"
      },
      "execution_count": 49,
      "outputs": [
        {
          "output_type": "display_data",
          "data": {
            "text/plain": [
              "<Figure size 1500x700 with 1 Axes>"
            ],
            "image/png": "[encoded data removed]"
          },
          "metadata": {}
        }
      ]
    },
    {
      "cell_type": "code",
      "source": [
        "#column: NumberOfDeviveRegistered\n",
        "OnlineRetail['NumberOfDeviceRegistered'].value_counts() #Figuring Out if there are extreme values."
      ],
      "metadata": {
        "colab": {
          "base_uri": "https://localhost:8080/"
        },
        "id": "dhtjvNboUinm",
        "outputId": "2c6d570e-a37a-4450-b5df-2d89e023c7d3"
      },
      "execution_count": 50,
      "outputs": [
        {
          "output_type": "execute_result",
          "data": {
            "text/plain": [
              "4.0    1961\n",
              "3.0    1140\n",
              "5.0     775\n",
              "2.0     239\n",
              "1.0     156\n",
              "6.0     150\n",
              "Name: NumberOfDeviceRegistered, dtype: int64"
            ]
          },
          "metadata": {},
          "execution_count": 50
        }
      ]
    },
    {
      "cell_type": "code",
      "source": [
        "#column: Complain\n",
        "OnlineRetail['Complain'].value_counts() #Figuring Out if there are extreme values."
      ],
      "metadata": {
        "colab": {
          "base_uri": "https://localhost:8080/"
        },
        "id": "Nk9-SqcLUoV_",
        "outputId": "06990c1e-897e-4cdd-b986-c797b7c4a8f0"
      },
      "execution_count": 51,
      "outputs": [
        {
          "output_type": "execute_result",
          "data": {
            "text/plain": [
              "0    3285\n",
              "1    1308\n",
              "Name: Complain, dtype: int64"
            ]
          },
          "metadata": {},
          "execution_count": 51
        }
      ]
    },
    {
      "cell_type": "code",
      "source": [
        "#column: OrderAmountHikeFromlastYear\n",
        "OnlineRetail['OrderAmountHikeFromlastYear'].value_counts() #Figuring Out if there are extreme values."
      ],
      "metadata": {
        "colab": {
          "base_uri": "https://localhost:8080/"
        },
        "id": "22F8e9UzUs_2",
        "outputId": "1351960f-5178-4e67-a887-3fde6c1c3988"
      },
      "execution_count": 52,
      "outputs": [
        {
          "output_type": "execute_result",
          "data": {
            "text/plain": [
              "14.0    610\n",
              "12.0    596\n",
              "13.0    585\n",
              "15.0    472\n",
              "11.0    280\n",
              "16.0    260\n",
              "18.0    259\n",
              "19.0    259\n",
              "17.0    248\n",
              "20.0    191\n",
              "21.0    159\n",
              "22.0    147\n",
              "23.0    119\n",
              "24.0     67\n",
              "25.0     59\n",
              "26.0     32\n",
              "Name: OrderAmountHikeFromlastYear, dtype: int64"
            ]
          },
          "metadata": {},
          "execution_count": 52
        }
      ]
    },
    {
      "cell_type": "code",
      "source": [
        "plt.figure(figsize=(15,7))\n",
        "OrderAmountHikeFromlastYear_ax = sns.boxplot(data = OnlineRetail, x = OnlineRetail['OrderAmountHikeFromlastYear'])\n",
        "plt.tick_params(axis='x', colors='white')\n",
        "plt.xlabel('OrderAmountHikeFromlastYear Values', color='white')\n",
        "OrderAmountHikeFromlastYear_ax.set_title('Finding outliers in OrderAmountHikeFromlastYear column',color= 'white')\n",
        "plt.show()\n",
        "#Since this column presents the increase percentage, Outliers is not problematic in this case"
      ],
      "metadata": {
        "colab": {
          "base_uri": "https://localhost:8080/",
          "height": 641
        },
        "id": "prbpis97U1Vu",
        "outputId": "83555668-0ff8-47aa-d7fa-75e0ce9c0070"
      },
      "execution_count": 53,
      "outputs": [
        {
          "output_type": "display_data",
          "data": {
            "text/plain": [
              "<Figure size 1500x700 with 1 Axes>"
            ],
            "image/png": "[encoded data removed]"
          },
          "metadata": {}
        }
      ]
    },
    {
      "cell_type": "code",
      "source": [
        "#column: CashbackAmount\n",
        "OnlineRetail['CashbackAmount'].value_counts().sort_index() #Figuring Out if there are extreme values."
      ],
      "metadata": {
        "colab": {
          "base_uri": "https://localhost:8080/"
        },
        "id": "VSdl5uFoVBZI",
        "outputId": "1c03e8dd-3ea3-4ddc-c4e1-38d2ca6c797d"
      },
      "execution_count": 54,
      "outputs": [
        {
          "output_type": "execute_result",
          "data": {
            "text/plain": [
              "0.00      4\n",
              "12.00     1\n",
              "25.00     4\n",
              "37.00     1\n",
              "56.00     1\n",
              "         ..\n",
              "323.59    2\n",
              "324.26    2\n",
              "324.43    2\n",
              "324.73    2\n",
              "324.99    2\n",
              "Name: CashbackAmount, Length: 2234, dtype: int64"
            ]
          },
          "metadata": {},
          "execution_count": 54
        }
      ]
    },
    {
      "cell_type": "code",
      "source": [
        "#Detecting outliers in CashbackAmount\n",
        "plt.figure(figsize=(15,7))\n",
        "CashbackAmount_ax = sns.boxplot(data = OnlineRetail, x = OnlineRetail['CashbackAmount'])\n",
        "plt.tick_params(axis='x', colors='white')\n",
        "plt.xlabel('CashbackAmount Values', color='white')\n",
        "CashbackAmount_ax.set_title('Finding outliers in CashbackAmount column',color= 'white')\n",
        "plt.show()"
      ],
      "metadata": {
        "colab": {
          "base_uri": "https://localhost:8080/",
          "height": 641
        },
        "id": "d0N27TTcVIs_",
        "outputId": "9a1152c3-aaf8-469e-eec3-6069a397bc7c"
      },
      "execution_count": 55,
      "outputs": [
        {
          "output_type": "display_data",
          "data": {
            "text/plain": [
              "<Figure size 1500x700 with 1 Axes>"
            ],
            "image/png": "[encoded data removed]"
          },
          "metadata": {}
        }
      ]
    },
    {
      "cell_type": "markdown",
      "source": [
        "Handling / Figuring out null values and Handling / Figuring out wrong values"
      ],
      "metadata": {
        "id": "gwSZlQFlVQg3"
      }
    },
    {
      "cell_type": "code",
      "source": [
        "OnlineRetail.isnull().sum()"
      ],
      "metadata": {
        "colab": {
          "base_uri": "https://localhost:8080/"
        },
        "id": "gr5ZYWhRVPjd",
        "outputId": "161fdcc3-2240-4931-ec11-2fe452e6873a"
      },
      "execution_count": 56,
      "outputs": [
        {
          "output_type": "execute_result",
          "data": {
            "text/plain": [
              "CustomerID                       0\n",
              "Churn                            0\n",
              "Tenure                          85\n",
              "PreferredLoginDevice             0\n",
              "CityTier                         0\n",
              "WarehouseToHome                  0\n",
              "PreferredPaymentMode           170\n",
              "Gender                           0\n",
              "HourSpendOnApp                   0\n",
              "NumberOfDeviceRegistered       172\n",
              "PreferedOrderCat                 0\n",
              "SatisfactionScore                0\n",
              "MaritalStatus                  155\n",
              "NumberOfAddress                  0\n",
              "Complain                         0\n",
              "OrderAmountHikeFromlastYear    250\n",
              "CouponUsed                     243\n",
              "OrderCount                     247\n",
              "DaySinceLastOrder              290\n",
              "CashbackAmount                   0\n",
              "dtype: int64"
            ]
          },
          "metadata": {},
          "execution_count": 56
        }
      ]
    },
    {
      "cell_type": "markdown",
      "source": [
        "Handling / Figuring wrong values"
      ],
      "metadata": {
        "id": "G-DKcKEnVZCT"
      }
    },
    {
      "cell_type": "code",
      "source": [
        "OnlineRetail.dtypes"
      ],
      "metadata": {
        "colab": {
          "base_uri": "https://localhost:8080/"
        },
        "id": "DgGee1U1VcUy",
        "outputId": "6304cbbb-0a27-490d-dd7e-167de3e1d78f"
      },
      "execution_count": 57,
      "outputs": [
        {
          "output_type": "execute_result",
          "data": {
            "text/plain": [
              "CustomerID                       int64\n",
              "Churn                            int64\n",
              "Tenure                         float64\n",
              "PreferredLoginDevice            object\n",
              "CityTier                         int64\n",
              "WarehouseToHome                float64\n",
              "PreferredPaymentMode            object\n",
              "Gender                          object\n",
              "HourSpendOnApp                 float64\n",
              "NumberOfDeviceRegistered       float64\n",
              "PreferedOrderCat                object\n",
              "SatisfactionScore                int64\n",
              "MaritalStatus                   object\n",
              "NumberOfAddress                  int64\n",
              "Complain                         int64\n",
              "OrderAmountHikeFromlastYear    float64\n",
              "CouponUsed                     float64\n",
              "OrderCount                     float64\n",
              "DaySinceLastOrder              float64\n",
              "CashbackAmount                 float64\n",
              "dtype: object"
            ]
          },
          "metadata": {},
          "execution_count": 57
        }
      ]
    },
    {
      "cell_type": "code",
      "source": [
        "#column: Churn\n",
        "OnlineRetail['Churn'].unique()"
      ],
      "metadata": {
        "colab": {
          "base_uri": "https://localhost:8080/"
        },
        "id": "_tq_U4cwVeZ4",
        "outputId": "9004abf1-9c76-4da9-acd6-a26620a1b99f"
      },
      "execution_count": 58,
      "outputs": [
        {
          "output_type": "execute_result",
          "data": {
            "text/plain": [
              "array([1, 0])"
            ]
          },
          "metadata": {},
          "execution_count": 58
        }
      ]
    },
    {
      "cell_type": "code",
      "source": [
        "#column: Tenure\n",
        "OnlineRetail['Tenure'].unique()"
      ],
      "metadata": {
        "colab": {
          "base_uri": "https://localhost:8080/"
        },
        "id": "elPI0CImVjZ3",
        "outputId": "e2c10ca4-24d3-4ea3-cb58-5542aea8e384"
      },
      "execution_count": 59,
      "outputs": [
        {
          "output_type": "execute_result",
          "data": {
            "text/plain": [
              "array([ 4.,  0., 11.,  9., 19., 20., 14.,  8.,  5., 30., 13., 23.,  3.,\n",
              "       18., 29., 26., 28.,  7., 24., 25., 10., 15., nan, 22.,  1., 27.,\n",
              "        2., 16., 12.,  6., 21., 17., 31.])"
            ]
          },
          "metadata": {},
          "execution_count": 59
        }
      ]
    },
    {
      "cell_type": "code",
      "source": [
        "#column: PrefferedLoginDevice\n",
        "OnlineRetail['PreferredLoginDevice'].unique()"
      ],
      "metadata": {
        "colab": {
          "base_uri": "https://localhost:8080/"
        },
        "id": "ZUu8sAF1VnmC",
        "outputId": "0383c97d-287f-4d22-e806-6b6e68c9414a"
      },
      "execution_count": 60,
      "outputs": [
        {
          "output_type": "execute_result",
          "data": {
            "text/plain": [
              "array(['Mobile Phone', 'Computer', '0', 'Phone'], dtype=object)"
            ]
          },
          "metadata": {},
          "execution_count": 60
        }
      ]
    },
    {
      "cell_type": "code",
      "source": [
        "#Handling 0 value in PreferredLoginDevice\n",
        "OnlineRetail['PreferredLoginDevice'].replace('0','Other',inplace=True)\n",
        "OnlineRetail['PreferredLoginDevice'].replace('Phone','Mobile Phone',inplace=True)"
      ],
      "metadata": {
        "id": "uYa5iy1nV3NH"
      },
      "execution_count": 61,
      "outputs": []
    },
    {
      "cell_type": "code",
      "source": [
        "#column: CityTier\n",
        "OnlineRetail['CityTier'].unique()"
      ],
      "metadata": {
        "colab": {
          "base_uri": "https://localhost:8080/"
        },
        "id": "y5fCBNkBV9NP",
        "outputId": "a48317c4-b26b-4c3c-e0f8-5b369e20c6c0"
      },
      "execution_count": 62,
      "outputs": [
        {
          "output_type": "execute_result",
          "data": {
            "text/plain": [
              "array([3, 1, 2])"
            ]
          },
          "metadata": {},
          "execution_count": 62
        }
      ]
    },
    {
      "cell_type": "code",
      "source": [
        "#column: WarehouseToHome\n",
        "OnlineRetail['WarehouseToHome'].unique()"
      ],
      "metadata": {
        "colab": {
          "base_uri": "https://localhost:8080/"
        },
        "id": "Kiev-U2iWBRe",
        "outputId": "470364c8-a7fd-4234-e0ac-bdef6b2f9a70"
      },
      "execution_count": 63,
      "outputs": [
        {
          "output_type": "execute_result",
          "data": {
            "text/plain": [
              "array([ 6., 22., 18., 11., 15., 13., 20., 12., 29., 26., 14., 10., 30.,\n",
              "       17.,  8., 19.,  9., 27., 35., 24., 16., 33., 32., 23., 28., 31.,\n",
              "       34.,  5., 25., 21.,  7., 36.])"
            ]
          },
          "metadata": {},
          "execution_count": 63
        }
      ]
    },
    {
      "cell_type": "code",
      "source": [
        "#column: PrefferedPaymentMode\n",
        "OnlineRetail['PreferredPaymentMode'].unique()"
      ],
      "metadata": {
        "colab": {
          "base_uri": "https://localhost:8080/"
        },
        "id": "gBp7uggOWF0n",
        "outputId": "55f271c2-c65b-4aa7-c8b7-bbf2c7ed3205"
      },
      "execution_count": 64,
      "outputs": [
        {
          "output_type": "execute_result",
          "data": {
            "text/plain": [
              "array(['Debit Card', 'Cash on Delivery', 'COD', 'CC', 'Credit Card',\n",
              "       'E wallet', nan, 'UPI'], dtype=object)"
            ]
          },
          "metadata": {},
          "execution_count": 64
        }
      ]
    },
    {
      "cell_type": "code",
      "source": [
        "#Handling 'COD' and 'CC' values\n",
        "OnlineRetail['PreferredPaymentMode'].replace('COD','Cash on Delivery', inplace=True) #Replacing COD with Cash On Delivery\n",
        "OnlineRetail['PreferredPaymentMode'].replace('CC','Credit Card', inplace=True) #Replacing CC with Credit Card\n",
        "OnlineRetail['PreferredPaymentMode'].fillna(value='Other', inplace=True) #Replacing nan with Other"
      ],
      "metadata": {
        "id": "Q76qj3b6WGAr"
      },
      "execution_count": 65,
      "outputs": []
    },
    {
      "cell_type": "code",
      "source": [
        "#column: Gender\n",
        "OnlineRetail['Gender'].unique()"
      ],
      "metadata": {
        "colab": {
          "base_uri": "https://localhost:8080/"
        },
        "id": "xs2ekygmWRXg",
        "outputId": "ee25b6f9-27cf-4a64-d6e9-d70a464e89e1"
      },
      "execution_count": 66,
      "outputs": [
        {
          "output_type": "execute_result",
          "data": {
            "text/plain": [
              "array(['Female', 'Male', 'f', 'm'], dtype=object)"
            ]
          },
          "metadata": {},
          "execution_count": 66
        }
      ]
    },
    {
      "cell_type": "code",
      "source": [
        "#Handling 'f' and 'm' value in Gender\n",
        "OnlineRetail['Gender'].replace('f','Female',inplace=True)\n",
        "OnlineRetail['Gender'].replace('m','Male',inplace=True)"
      ],
      "metadata": {
        "id": "0ChA6knxWRar"
      },
      "execution_count": 67,
      "outputs": []
    },
    {
      "cell_type": "code",
      "source": [
        "#column: HourSpendOnApp\n",
        "OnlineRetail['HourSpendOnApp'].unique()"
      ],
      "metadata": {
        "colab": {
          "base_uri": "https://localhost:8080/"
        },
        "id": "IEec1N_5WXKX",
        "outputId": "bffa11d1-25f9-4e4a-dc35-feb549af5999"
      },
      "execution_count": 68,
      "outputs": [
        {
          "output_type": "execute_result",
          "data": {
            "text/plain": [
              "array([3., 2., 1., 4.])"
            ]
          },
          "metadata": {},
          "execution_count": 68
        }
      ]
    },
    {
      "cell_type": "code",
      "source": [
        "#column: NumberOfDeviceRegistered\n",
        "OnlineRetail['NumberOfDeviceRegistered'].unique()"
      ],
      "metadata": {
        "colab": {
          "base_uri": "https://localhost:8080/"
        },
        "id": "3Y4dG0wkWXNi",
        "outputId": "814cd738-4504-4214-e719-7ecd467ef5dc"
      },
      "execution_count": 69,
      "outputs": [
        {
          "output_type": "execute_result",
          "data": {
            "text/plain": [
              "array([ 3.,  5.,  4., nan,  2.,  1.,  6.])"
            ]
          },
          "metadata": {},
          "execution_count": 69
        }
      ]
    },
    {
      "cell_type": "code",
      "source": [
        "#column: PreferedOrderCat\n",
        "OnlineRetail['PreferedOrderCat'].unique()"
      ],
      "metadata": {
        "colab": {
          "base_uri": "https://localhost:8080/"
        },
        "id": "tOkF8EJFWgdX",
        "outputId": "988bcf64-ef18-4b0f-dae8-5d7d977fe525"
      },
      "execution_count": 70,
      "outputs": [
        {
          "output_type": "execute_result",
          "data": {
            "text/plain": [
              "array(['Laptop & Accessory', 'Mobile Phone', 'Others', 'Fashion',\n",
              "       'Mobile', 'Grocery'], dtype=object)"
            ]
          },
          "metadata": {},
          "execution_count": 70
        }
      ]
    },
    {
      "cell_type": "code",
      "source": [
        "#Handling 'Mobile' value in PreferedOrderCat\n",
        "OnlineRetail['PreferedOrderCat'].replace('Mobile','Mobile Phone',inplace=True)"
      ],
      "metadata": {
        "id": "9JO2vUZ5Wgge"
      },
      "execution_count": 71,
      "outputs": []
    },
    {
      "cell_type": "code",
      "source": [
        "#column: SatisfactionScore\n",
        "OnlineRetail['SatisfactionScore'].unique()"
      ],
      "metadata": {
        "colab": {
          "base_uri": "https://localhost:8080/"
        },
        "id": "BDa5kVyfWgj5",
        "outputId": "4b4b5ae4-8f9d-4cd8-98f8-2d61ce67a31f"
      },
      "execution_count": 72,
      "outputs": [
        {
          "output_type": "execute_result",
          "data": {
            "text/plain": [
              "array([2, 5, 3, 4, 1])"
            ]
          },
          "metadata": {},
          "execution_count": 72
        }
      ]
    },
    {
      "cell_type": "code",
      "source": [
        "#column: MaritalStatus\n",
        "OnlineRetail['MaritalStatus'].unique()"
      ],
      "metadata": {
        "colab": {
          "base_uri": "https://localhost:8080/"
        },
        "id": "z3CKKqylWvxO",
        "outputId": "442377eb-79b0-4ac6-8443-84beccecd5dd"
      },
      "execution_count": 73,
      "outputs": [
        {
          "output_type": "execute_result",
          "data": {
            "text/plain": [
              "array(['Single', 'Divorced', 'Married', nan], dtype=object)"
            ]
          },
          "metadata": {},
          "execution_count": 73
        }
      ]
    },
    {
      "cell_type": "code",
      "source": [
        "#column: NumberOfAddress\n",
        "OnlineRetail['NumberOfAddress'].unique()"
      ],
      "metadata": {
        "colab": {
          "base_uri": "https://localhost:8080/"
        },
        "id": "JvZi-yeAWv0e",
        "outputId": "140dcc37-93c3-4bc1-cabf-d3dce3441834"
      },
      "execution_count": 74,
      "outputs": [
        {
          "output_type": "execute_result",
          "data": {
            "text/plain": [
              "array([ 9,  2, 10,  1,  5,  4,  3,  8,  6,  7, 11])"
            ]
          },
          "metadata": {},
          "execution_count": 74
        }
      ]
    },
    {
      "cell_type": "code",
      "source": [
        "#column: Complain\n",
        "OnlineRetail['Complain'].unique()"
      ],
      "metadata": {
        "colab": {
          "base_uri": "https://localhost:8080/"
        },
        "id": "u0baPhJnWv4J",
        "outputId": "64f403b3-5699-476a-cbc9-4ddd608d1ab9"
      },
      "execution_count": 75,
      "outputs": [
        {
          "output_type": "execute_result",
          "data": {
            "text/plain": [
              "array([1, 0])"
            ]
          },
          "metadata": {},
          "execution_count": 75
        }
      ]
    },
    {
      "cell_type": "code",
      "source": [
        "#column: OrderAmountHikeFromlastYear\n",
        "OnlineRetail['OrderAmountHikeFromlastYear'].unique()"
      ],
      "metadata": {
        "colab": {
          "base_uri": "https://localhost:8080/"
        },
        "id": "scg0wgg7W_z4",
        "outputId": "c07ac98a-6d8c-4f71-bfb2-43d72eb4ca9a"
      },
      "execution_count": 76,
      "outputs": [
        {
          "output_type": "execute_result",
          "data": {
            "text/plain": [
              "array([11., 22., nan, 13., 17., 16., 24., 18., 12., 15., 14., 20., 25.,\n",
              "       23., 19., 21., 26.])"
            ]
          },
          "metadata": {},
          "execution_count": 76
        }
      ]
    },
    {
      "cell_type": "code",
      "source": [
        "#column: CouponUsed\n",
        "OnlineRetail['CouponUsed'].unique()"
      ],
      "metadata": {
        "colab": {
          "base_uri": "https://localhost:8080/"
        },
        "id": "wKlnp4d1W_21",
        "outputId": "6e0b67a5-9c0d-4004-f8b6-e7c53d29c0d4"
      },
      "execution_count": 77,
      "outputs": [
        {
          "output_type": "execute_result",
          "data": {
            "text/plain": [
              "array([ 1.,  4.,  9.,  0.,  2.,  6., 11., nan,  7., 12., 10.,  5.,  3.,\n",
              "       13.,  8., 14., 16.])"
            ]
          },
          "metadata": {},
          "execution_count": 77
        }
      ]
    },
    {
      "cell_type": "code",
      "source": [
        "#column: OrderCount\n",
        "OnlineRetail['OrderCount'].unique()"
      ],
      "metadata": {
        "colab": {
          "base_uri": "https://localhost:8080/"
        },
        "id": "Mi35Bk-RXJqS",
        "outputId": "43774cec-1267-4ded-f5a7-4a429eb10cea"
      },
      "execution_count": 78,
      "outputs": [
        {
          "output_type": "execute_result",
          "data": {
            "text/plain": [
              "array([ 1.,  6., 15.,  2.,  4.,  7.,  3.,  9., nan, 11.,  5., 12.,  8.,\n",
              "       13., 10., 14., 16.])"
            ]
          },
          "metadata": {},
          "execution_count": 78
        }
      ]
    },
    {
      "cell_type": "code",
      "source": [
        "#column: DaySinceLastOrder\n",
        "OnlineRetail['DaySinceLastOrder'].unique()"
      ],
      "metadata": {
        "colab": {
          "base_uri": "https://localhost:8080/"
        },
        "id": "nVy3VdyKXPD2",
        "outputId": "11a6ec1a-91d2-4693-9c71-c366f9cc4e33"
      },
      "execution_count": 79,
      "outputs": [
        {
          "output_type": "execute_result",
          "data": {
            "text/plain": [
              "array([ 5.,  7.,  8.,  0.,  2.,  3.,  6.,  4., 11.,  1.,  9., 15., nan,\n",
              "       13., 12., 10., 16., 17., 14., 30., 46., 18., 31.])"
            ]
          },
          "metadata": {},
          "execution_count": 79
        }
      ]
    },
    {
      "cell_type": "code",
      "source": [
        "#column: CashbackAmount\n",
        "OnlineRetail['CashbackAmount'].unique()"
      ],
      "metadata": {
        "colab": {
          "base_uri": "https://localhost:8080/"
        },
        "id": "DlKZDpk2XUWf",
        "outputId": "5393727d-f814-4884-fd29-315b8f16375b"
      },
      "execution_count": 80,
      "outputs": [
        {
          "output_type": "execute_result",
          "data": {
            "text/plain": [
              "array([159.93, 139.19, 295.45, ..., 173.78, 159.82, 172.87])"
            ]
          },
          "metadata": {},
          "execution_count": 80
        }
      ]
    },
    {
      "cell_type": "markdown",
      "source": [
        "Feature Engineering: One Hot Encoding"
      ],
      "metadata": {
        "id": "HkgEa__XXZpm"
      }
    },
    {
      "cell_type": "code",
      "source": [
        "#Turning Nominal Object columns into seperate columns\n",
        "OneHot_Columns = ['PreferredLoginDevice','PreferredPaymentMode','Gender','PreferedOrderCat','MaritalStatus']\n",
        "OnlineRetail = pd.get_dummies(OnlineRetail, columns= OneHot_Columns)"
      ],
      "metadata": {
        "id": "Y4dGyo58XdBe"
      },
      "execution_count": 81,
      "outputs": []
    },
    {
      "cell_type": "code",
      "source": [
        "OnlineRetail.columns #Validating the changes"
      ],
      "metadata": {
        "colab": {
          "base_uri": "https://localhost:8080/"
        },
        "id": "fXOCuTQyXgL5",
        "outputId": "b1aace68-3bdd-45b8-859b-2cd97eeabe79"
      },
      "execution_count": 82,
      "outputs": [
        {
          "output_type": "execute_result",
          "data": {
            "text/plain": [
              "Index(['CustomerID', 'Churn', 'Tenure', 'CityTier', 'WarehouseToHome',\n",
              "       'HourSpendOnApp', 'NumberOfDeviceRegistered', 'SatisfactionScore',\n",
              "       'NumberOfAddress', 'Complain', 'OrderAmountHikeFromlastYear',\n",
              "       'CouponUsed', 'OrderCount', 'DaySinceLastOrder', 'CashbackAmount',\n",
              "       'PreferredLoginDevice_Computer', 'PreferredLoginDevice_Mobile Phone',\n",
              "       'PreferredLoginDevice_Other', 'PreferredPaymentMode_Cash on Delivery',\n",
              "       'PreferredPaymentMode_Credit Card', 'PreferredPaymentMode_Debit Card',\n",
              "       'PreferredPaymentMode_E wallet', 'PreferredPaymentMode_Other',\n",
              "       'PreferredPaymentMode_UPI', 'Gender_Female', 'Gender_Male',\n",
              "       'PreferedOrderCat_Fashion', 'PreferedOrderCat_Grocery',\n",
              "       'PreferedOrderCat_Laptop & Accessory', 'PreferedOrderCat_Mobile Phone',\n",
              "       'PreferedOrderCat_Others', 'MaritalStatus_Divorced',\n",
              "       'MaritalStatus_Married', 'MaritalStatus_Single'],\n",
              "      dtype='object')"
            ]
          },
          "metadata": {},
          "execution_count": 82
        }
      ]
    },
    {
      "cell_type": "markdown",
      "source": [
        "Handling nulls"
      ],
      "metadata": {
        "id": "betNVQKCXjNW"
      }
    },
    {
      "cell_type": "code",
      "source": [
        "#Dropping nulls\n",
        "OnlineRetail_NoNull = OnlineRetail.copy()\n",
        "OnlineRetail_NoNull.dropna(inplace=True)"
      ],
      "metadata": {
        "id": "wlSVWb0ZXhRV"
      },
      "execution_count": 83,
      "outputs": []
    },
    {
      "cell_type": "markdown",
      "source": [
        "Random Forest Model"
      ],
      "metadata": {
        "id": "8bHaX6HWXr-f"
      }
    },
    {
      "cell_type": "code",
      "source": [
        "from sklearn.ensemble import RandomForestClassifier\n",
        "from sklearn.model_selection import train_test_split\n",
        "from sklearn.metrics import accuracy_score\n",
        "\n",
        "y = OnlineRetail_NoNull['Churn']\n",
        "x = OnlineRetail_NoNull.drop('Churn', axis=1)\n",
        "\n",
        "# Split the data into training and testing sets\n",
        "x_train, x_test, y_train, y_test = train_test_split(x, y, test_size=0.2, stratify=y, random_state=0)\n",
        "\n",
        "# Define different values for n_estimators and max_depth\n",
        "n_estimators_values = [100, 300, 500]\n",
        "max_depth_values = [None, 10, 20]\n",
        "\n",
        "# Iterate through different hyperparameter values\n",
        "for n_estimators in n_estimators_values:\n",
        "    for max_depth in max_depth_values:\n",
        "        # Create and train a RandomForestClassifier\n",
        "        rf = RandomForestClassifier(n_estimators=n_estimators, max_depth=max_depth, random_state=0)\n",
        "        rf.fit(x_train, y_train)\n",
        "\n",
        "        # Make predictions on the training set\n",
        "        rf_pred_train = rf.predict(x_train)\n",
        "\n",
        "        # Make predictions on the testing set\n",
        "        rf_pred_test = rf.predict(x_test)\n",
        "\n",
        "        # Calculate and print the accuracy\n",
        "        train_accuracy = accuracy_score(y_train, rf_pred_train)\n",
        "        test_accuracy = accuracy_score(y_test, rf_pred_test)\n",
        "\n",
        "        print(f'n_estimators={n_estimators}, max_depth={max_depth}')\n",
        "        print(f'Training Accuracy: {train_accuracy:.4f}')\n",
        "        print(f'Testing Accuracy: {test_accuracy:.4f}')\n",
        "        print('---')"
      ],
      "metadata": {
        "colab": {
          "base_uri": "https://localhost:8080/"
        },
        "id": "SxIe7CWljUIc",
        "outputId": "655cb8a1-a87f-4d16-be10-6d46d928ff90"
      },
      "execution_count": 84,
      "outputs": [
        {
          "output_type": "stream",
          "name": "stdout",
          "text": [
            "n_estimators=100, max_depth=None\n",
            "Training Accuracy: 1.0000\n",
            "Testing Accuracy: 0.9554\n",
            "---\n",
            "n_estimators=100, max_depth=10\n",
            "Training Accuracy: 0.9832\n",
            "Testing Accuracy: 0.9375\n",
            "---\n",
            "n_estimators=100, max_depth=20\n",
            "Training Accuracy: 1.0000\n",
            "Testing Accuracy: 0.9568\n",
            "---\n",
            "n_estimators=300, max_depth=None\n",
            "Training Accuracy: 1.0000\n",
            "Testing Accuracy: 0.9613\n",
            "---\n",
            "n_estimators=300, max_depth=10\n",
            "Training Accuracy: 0.9810\n",
            "Testing Accuracy: 0.9464\n",
            "---\n",
            "n_estimators=300, max_depth=20\n",
            "Training Accuracy: 1.0000\n",
            "Testing Accuracy: 0.9598\n",
            "---\n",
            "n_estimators=500, max_depth=None\n",
            "Training Accuracy: 1.0000\n",
            "Testing Accuracy: 0.9568\n",
            "---\n",
            "n_estimators=500, max_depth=10\n",
            "Training Accuracy: 0.9803\n",
            "Testing Accuracy: 0.9449\n",
            "---\n",
            "n_estimators=500, max_depth=20\n",
            "Training Accuracy: 1.0000\n",
            "Testing Accuracy: 0.9583\n",
            "---\n"
          ]
        }
      ]
    },
    {
      "cell_type": "code",
      "source": [
        "y = OnlineRetail_NoNull['Churn']\n",
        "x = OnlineRetail_NoNull.drop('Churn', axis=1)\n",
        "\n",
        "# Split the data into training and testing sets\n",
        "x_train, x_test, y_train, y_test = train_test_split(x, y, test_size=0.2, stratify=y, random_state=0)\n",
        "\n",
        "# Chosen hyperparameters\n",
        "n_estimators = 300\n",
        "max_depth = None\n",
        "\n",
        "# Create and train a RandomForestClassifier with chosen hyperparameters\n",
        "rf = RandomForestClassifier(n_estimators=n_estimators, max_depth=max_depth, random_state=0)\n",
        "rf.fit(x_train, y_train)\n",
        "\n",
        "# Make predictions on the training set\n",
        "rf_pred_train = rf.predict(x_train)\n",
        "\n",
        "# Make predictions on the testing set\n",
        "rf_pred_test = rf.predict(x_test)\n",
        "\n",
        "# Calculate and print the accuracy\n",
        "train_accuracy = accuracy_score(y_train, rf_pred_train)\n",
        "test_accuracy = accuracy_score(y_test, rf_pred_test)\n",
        "\n",
        "print(f'n_estimators={n_estimators}, max_depth={max_depth}')\n",
        "print(f'Training Accuracy: {train_accuracy:.4f}')\n",
        "print(f'Testing Accuracy: {test_accuracy:.4f}')\n"
      ],
      "metadata": {
        "colab": {
          "base_uri": "https://localhost:8080/"
        },
        "id": "UVxKdIUeb-q_",
        "outputId": "d46a6b73-fbe2-484d-806d-21219db9661a"
      },
      "execution_count": 85,
      "outputs": [
        {
          "output_type": "stream",
          "name": "stdout",
          "text": [
            "n_estimators=300, max_depth=None\n",
            "Training Accuracy: 1.0000\n",
            "Testing Accuracy: 0.9613\n"
          ]
        }
      ]
    },
    {
      "cell_type": "markdown",
      "source": [
        "Extended dataset"
      ],
      "metadata": {
        "id": "SEMqKxskg2XA"
      }
    },
    {
      "cell_type": "code",
      "source": [
        "# Use predictions directly without concatenating them with the original features\n",
        "extended_training = pd.Series(rf_pred_train, name='RF_Prediction_train')\n",
        "extended_testing = pd.Series(rf_pred_test, name='RF_Prediction_test')"
      ],
      "metadata": {
        "id": "JLQFar5dLdtn"
      },
      "execution_count": 86,
      "outputs": []
    },
    {
      "cell_type": "markdown",
      "source": [
        "Gradient Boosting model"
      ],
      "metadata": {
        "id": "Jgy-ac04g5_X"
      }
    },
    {
      "cell_type": "code",
      "source": [
        "from sklearn.ensemble import GradientBoostingClassifier\n",
        "import pandas as pd\n",
        "\n",
        "# Define different values for hyperparameters\n",
        "n_estimators_values = [500, 1000, 2000]\n",
        "max_depth_values = [3, 5, 7]\n",
        "\n",
        "# Results dictionary to store accuracy for each combination\n",
        "results = {}\n",
        "\n",
        "# Iterate through different hyperparameter values\n",
        "for n_estimators in n_estimators_values:\n",
        "    for max_depth in max_depth_values:\n",
        "        # Train the second model (Gradient Boosting) using the extended training set\n",
        "        gb_model = GradientBoostingClassifier(\n",
        "            n_estimators=n_estimators,\n",
        "            max_depth=max_depth,\n",
        "            random_state=0\n",
        "        )\n",
        "\n",
        "        gb_model.fit(extended_training.values.reshape(-1, 1), y_train)\n",
        "\n",
        "        # Make final predictions on the extended testing set using the trained second model\n",
        "        final_predictions = gb_model.predict(extended_testing.values.reshape(-1, 1))\n",
        "\n",
        "        # Evaluate accuracy of the stacked model on the testing set\n",
        "        accuracy_final = accuracy_score(y_test, final_predictions)\n",
        "\n",
        "        # Store the results in the dictionary\n",
        "        results[(n_estimators, max_depth)] = accuracy_final\n",
        "\n",
        "        # Print the results for each combination\n",
        "        print(f'n_estimators={n_estimators}, max_depth={max_depth}, Accuracy={accuracy_final:.4f}')\n",
        "\n",
        "# Find the best hyperparameter combination\n",
        "best_params = max(results, key=results.get)\n",
        "best_accuracy = results[best_params]\n",
        "\n",
        "print(f'\\nBest Hyperparameters: {best_params}')\n",
        "print(f'Accuracy of the stacked model on testing set: {best_accuracy:.4f}')"
      ],
      "metadata": {
        "colab": {
          "base_uri": "https://localhost:8080/"
        },
        "id": "oC4ZTAXVQX2v",
        "outputId": "3a14cbc7-cb18-49b5-fa36-3af839e3e5ff"
      },
      "execution_count": 87,
      "outputs": [
        {
          "output_type": "stream",
          "name": "stdout",
          "text": [
            "n_estimators=500, max_depth=3, Accuracy=0.9613\n",
            "n_estimators=500, max_depth=5, Accuracy=0.9613\n",
            "n_estimators=500, max_depth=7, Accuracy=0.9613\n",
            "n_estimators=1000, max_depth=3, Accuracy=0.9613\n",
            "n_estimators=1000, max_depth=5, Accuracy=0.9613\n",
            "n_estimators=1000, max_depth=7, Accuracy=0.9613\n",
            "n_estimators=2000, max_depth=3, Accuracy=0.9613\n",
            "n_estimators=2000, max_depth=5, Accuracy=0.9613\n",
            "n_estimators=2000, max_depth=7, Accuracy=0.9613\n",
            "\n",
            "Best Hyperparameters: (500, 3)\n",
            "Accuracy of the stacked model on testing set: 0.9613\n"
          ]
        }
      ]
    },
    {
      "cell_type": "code",
      "source": [
        "from sklearn.metrics import precision_score, recall_score, f1_score\n",
        "\n",
        "# Set specific values for hyperparameters\n",
        "n_estimators_value = 500\n",
        "max_depth_value = 3\n",
        "\n",
        "# Train the second model (Gradient Boosting) using the extended training set\n",
        "gb_model = GradientBoostingClassifier(\n",
        "    n_estimators=n_estimators_value,\n",
        "    max_depth=max_depth_value,\n",
        "    random_state=0\n",
        ")\n",
        "\n",
        "gb_model.fit(extended_training.values.reshape(-1, 1), y_train)\n",
        "\n",
        "# Make final predictions on the extended testing set using the trained second model\n",
        "final_predictions = gb_model.predict(extended_testing.values.reshape(-1, 1))\n",
        "\n",
        "# Evaluate metrics of the stacked model on the testing set\n",
        "accuracy_final = accuracy_score(y_test, final_predictions)\n",
        "precision_final = precision_score(y_test, final_predictions)\n",
        "recall_final = recall_score(y_test, final_predictions)\n",
        "f1_final = f1_score(y_test, final_predictions)\n",
        "\n",
        "# Print the metrics for the specific hyperparameter values\n",
        "print(f'n_estimators={n_estimators_value}, max_depth={max_depth_value}')\n",
        "print(f'Accuracy={accuracy_final:.4f}, Precision={precision_final:.4f}, Recall={recall_final:.4f}, F1 Score={f1_final:.4f}')"
      ],
      "metadata": {
        "colab": {
          "base_uri": "https://localhost:8080/"
        },
        "id": "Fbxq8fDyscKa",
        "outputId": "4ef41961-96ca-49d8-cb6a-70499eb2119e"
      },
      "execution_count": 88,
      "outputs": [
        {
          "output_type": "stream",
          "name": "stdout",
          "text": [
            "n_estimators=500, max_depth=3\n",
            "Accuracy=0.9613, Precision=0.9886, Recall=0.7768, F1 Score=0.8700\n"
          ]
        }
      ]
    },
    {
      "cell_type": "code",
      "source": [
        "import matplotlib.pyplot as plt\n",
        "import seaborn as sns\n",
        "from sklearn.metrics import confusion_matrix, classification_report\n",
        "\n",
        "# Print the classification report\n",
        "classification_rep = classification_report(y_test, final_predictions)\n",
        "print('Classification Report:\\n', classification_rep)\n"
      ],
      "metadata": {
        "colab": {
          "base_uri": "https://localhost:8080/"
        },
        "id": "GOGo1Op8yNvJ",
        "outputId": "19813b1a-1c5d-4b12-e88b-53f2fde4d79d"
      },
      "execution_count": 89,
      "outputs": [
        {
          "output_type": "stream",
          "name": "stdout",
          "text": [
            "Classification Report:\n",
            "               precision    recall  f1-score   support\n",
            "\n",
            "           0       0.96      1.00      0.98       560\n",
            "           1       0.99      0.78      0.87       112\n",
            "\n",
            "    accuracy                           0.96       672\n",
            "   macro avg       0.97      0.89      0.92       672\n",
            "weighted avg       0.96      0.96      0.96       672\n",
            "\n"
          ]
        }
      ]
    },
    {
      "cell_type": "code",
      "source": [
        "# Plotting the metrics\n",
        "plt.figure(figsize=(10, 6))\n",
        "\n",
        "# Bar plot for accuracy, precision, recall, and F1-score\n",
        "metrics_names = ['Accuracy', 'Precision', 'Recall', 'F1 Score']\n",
        "metrics_values = [accuracy_final, precision_final, recall_final, f1_final]\n",
        "\n",
        "plt.bar(metrics_names, metrics_values, color=['blue', 'green', 'orange', 'red'])\n",
        "plt.ylim(0, 1)\n",
        "plt.title('Metrics for Stacked Model')\n",
        "plt.ylabel('Score')\n",
        "plt.show()\n",
        "\n",
        "# Plotting the confusion matrix\n",
        "plt.figure(figsize=(8, 6))\n",
        "\n",
        "conf_matrix = confusion_matrix(y_test, final_predictions)\n",
        "sns.heatmap(conf_matrix, annot=True, fmt='d', cmap='Blues', annot_kws={\"size\": 14})\n",
        "plt.title('Confusion Matrix')\n",
        "plt.xlabel('Predicted Label')\n",
        "plt.ylabel('True Label')\n",
        "plt.show()"
      ],
      "metadata": {
        "colab": {
          "base_uri": "https://localhost:8080/",
          "height": 1000
        },
        "id": "GbGuwqZ2uf-L",
        "outputId": "7e0cf636-f56b-41c8-dd51-5f497800766d"
      },
      "execution_count": 90,
      "outputs": [
        {
          "output_type": "display_data",
          "data": {
            "text/plain": [
              "<Figure size 1000x600 with 1 Axes>"
            ],
            "image/png": "[encoded data removed]"
          },
          "metadata": {}
        },
        {
          "output_type": "display_data",
          "data": {
            "text/plain": [
              "<Figure size 800x600 with 2 Axes>"
            ],
            "image/png": "[encoded data removed]"
          },
          "metadata": {}
        }
      ]
    }
  ]
}